{
 "cells": [
  {
   "cell_type": "markdown",
   "id": "bcb46811-238a-426a-a41f-0ee0c9922434",
   "metadata": {},
   "source": [
    "# Demonstration notebook `deepSI_lite`"
   ]
  },
  {
   "cell_type": "markdown",
   "id": "56e82acc-057a-4196-a197-56075a9b85bf",
   "metadata": {},
   "source": [
    "## Creating/obtaining train, val and test data in the form `Input_Output_data`"
   ]
  },
  {
   "cell_type": "code",
   "execution_count": 28,
   "id": "a951858e-6605-4f2b-80b8-89e5ebbdf41b",
   "metadata": {},
   "outputs": [
    {
     "name": "stdout",
     "output_type": "stream",
     "text": [
      "train = Input_output_data \"my train set\" u.shape=(7,) y.shape=(7,) sampling_time=1.0\n",
      "test = Input_output_data \"my test set\" u.shape=(7,) y.shape=(7,) sampling_time=1.0\n",
      "train = Input_output_data \"train Cascaded_Tanks\" u.shape=(1024,) y.shape=(1024,) sampling_time=4.0\n",
      "test = Input_output_data \"test Cascaded_Tanks\" u.shape=(1024,) y.shape=(1024,) sampling_time=4.0 state_initialization_window_length=5\n"
     ]
    }
   ],
   "source": [
    "from deepSI_lite import Input_output_data\n",
    "# from nonlinear_benchmarks import Input_output_data #equivilent as above\n",
    "import numpy as np\n",
    "\n",
    "\n",
    "#Example on how to create a Input_output_data\n",
    "train = Input_output_data(u=np.array([1,2,3,4,5,1.,3]),y=np.array([1,-1,-3,10,11,12,13.]), sampling_time=1.0, name='my train set') \n",
    "test = Input_output_data(u=np.array([1,2,3,4,5,1.,3]),y=np.array([1,-1,-3,10,11,12,13.]), sampling_time=1.0, name='my test set') \n",
    "print(f'{train = }')\n",
    "print(f'{test = }')\n",
    "\n",
    "#getting a dataset\n",
    "from nonlinear_benchmarks import Cascaded_Tanks\n",
    "train, test = Cascaded_Tanks()\n",
    "print(f'{train = }')\n",
    "print(f'{test = }')"
   ]
  },
  {
   "cell_type": "markdown",
   "id": "02c75f28-bc11-4df6-8b42-b93cdcb92fc3",
   "metadata": {},
   "source": [
    "## Creating a SUBNET structure \n",
    "\n",
    "Creating a model starts by characterizing by which kind of data it will be applied on. Example: number of inputs (`nu=3` for 3 inputs) or scalar inputs `nu='scalar'`. Futhermore, it is also used to re-scale such to normalize and de-normalize the of `f`, `h` and `encoder` (see `The shap bits of deepSI_lite.ipynb` for details)\n",
    "\n",
    "If you want to use zero-mean, std one normalization you can use `get_nu_ny_and_auto_norm` to characterize what kind of data you are working with.\n",
    "\n",
    "This can be used to initilize the SUBNET method (https://arxiv.org/abs/2012.07697, https://www.sciencedirect.com/science/article/pii/S0005109823003710) as seen below."
   ]
  },
  {
   "cell_type": "code",
   "execution_count": 29,
   "id": "f3416b4f-d5ed-4428-b7c7-12317ea25913",
   "metadata": {},
   "outputs": [
    {
     "name": "stdout",
     "output_type": "stream",
     "text": [
      "model.f(x, u) = tensor([[ 0.4626, -1.0500]], grad_fn=<AddBackward0>)\n"
     ]
    }
   ],
   "source": [
    "import deepSI_lite as dsi\n",
    "import torch\n",
    "\n",
    "nx, nb, na = 2, 5, 5\n",
    "nu, ny, norm = dsi.get_nu_ny_and_auto_norm(train)\n",
    "torch.manual_seed(1)\n",
    "model = dsi.SUBNET(nu, ny, norm, nx=nx, nb=nb, na=na)\n",
    "# this model has four components:\n",
    "# print(model.f)\n",
    "# print(model.h)\n",
    "# print(model.encoder)\n",
    "\n",
    "x = torch.randn(1,model.nx) # 1 batch size and nx state vector size \n",
    "u = torch.randn(1) #1 batch size and 'scalar' input size\n",
    "print(f'{model.f(x, u) = }') #the components can be evaluated in desired point"
   ]
  },
  {
   "cell_type": "markdown",
   "id": "addaf4a9-f864-4399-bd6f-8f03de233945",
   "metadata": {},
   "source": [
    "The SUBNET model has three components given by\n",
    "\n",
    "$$\n",
    "x_{k+1} = f_\\theta(x_k, u_k)\n",
    "$$\n",
    "$$\n",
    "\\hat{y}_k = h_\\theta(x_k)\n",
    "$$\n",
    "$$\n",
    "x_0 = \\psi_\\theta(u_\\text{past}, y_\\text{past})\n",
    "$$\n",
    "where $\\psi$ is the encoder that initializes the state. It is also possible to make $h_\\theta(x_k, u_k)$ by setting `feedthrough=True`.\n"
   ]
  },
  {
   "cell_type": "markdown",
   "id": "bdb0caef",
   "metadata": {},
   "source": [
    "## Fitting is a function in deepSI_lite\n",
    "\n",
    "Fitting can be done with the following function:\n",
    "\n",
    "```python\n",
    "def fit(model: nn.Module, train:Input_output_data, val:Input_output_data, n_its:int, T:int=50, \\\n",
    "        batch_size:int=256, stride:int=1, val_freq:int=250, optimizer:optim.Optimizer=None, \\\n",
    "            device=None, compile_mode=None, loss_fun=compute_NMSE, val_fun=compute_NMSE):\n",
    "```\n",
    "\n",
    "where `T` is the trunctation lenght of the subsequences, `val_freq` is the frequency of which the validation loop will run.\n",
    "\n",
    "You can also use `deepSI_lite.fitting.fit_minimal_implementation` which is a much smaller function but is missing some features. This can be handy since this one does not implement learning rate schedulers."
   ]
  },
  {
   "cell_type": "code",
   "execution_count": 30,
   "id": "41be12d3-00a6-4945-b1df-c1a40319108e",
   "metadata": {},
   "outputs": [
    {
     "name": "stdout",
     "output_type": "stream",
     "text": [
      "Number of samples to train on = 866\n"
     ]
    },
    {
     "data": {
      "application/vnd.jupyter.widget-view+json": {
       "model_id": "580e542a201242e989f68227f1ccff9a",
       "version_major": 2,
       "version_minor": 0
      },
      "text/plain": [
       "  0%|          | 0/1001 [00:00<?, ?it/s]"
      ]
     },
     "metadata": {},
     "output_type": "display_data"
    },
    {
     "name": "stdout",
     "output_type": "stream",
     "text": [
      "it       0 NRMS loss nan NRMS val 0.81654!! nan samps/sec\n",
      "it     100 NRMS loss 0.62834 NRMS val 0.54695!! 2083.90 samps/sec\n",
      "it     200 NRMS loss 0.28817 NRMS val 0.93002   2056.61 samps/sec\n",
      "it     300 NRMS loss 0.20684 NRMS val 0.60560   1999.95 samps/sec\n",
      "it     400 NRMS loss 0.19297 NRMS val 0.56671   1984.65 samps/sec\n",
      "it     500 NRMS loss 0.19565 NRMS val 0.53764!! 1966.41 samps/sec\n",
      "it     600 NRMS loss 0.17992 NRMS val 0.59924   1921.18 samps/sec\n",
      "it     700 NRMS loss 0.17227 NRMS val 0.45993!! 1855.21 samps/sec\n",
      "it     800 NRMS loss 0.16827 NRMS val 0.42827!! 1819.74 samps/sec\n",
      "it     900 NRMS loss 0.15026 NRMS val 0.40460!! 1787.56 samps/sec\n",
      "it   1,000 NRMS loss 0.14366 NRMS val 0.32012!! 1763.99 samps/sec\n"
     ]
    }
   ],
   "source": [
    "train_dict = dsi.fit(model, train=train[:900], val=train[900:], n_its=1_000, T=30, batch_size=64, val_freq=100)"
   ]
  },
  {
   "cell_type": "markdown",
   "id": "bb45269f-47bb-4b82-9911-fa563580bd18",
   "metadata": {},
   "source": [
    "Here `train_dict` contains information about the training. More information will be given on this later."
   ]
  },
  {
   "cell_type": "code",
   "execution_count": 31,
   "id": "63ee94c6-3c2f-47d5-bc11-4b4b753357b4",
   "metadata": {},
   "outputs": [
    {
     "data": {
      "image/png": "[encoded data removed]",
      "text/plain": [
       "<Figure size 500x200 with 1 Axes>"
      ]
     },
     "metadata": {},
     "output_type": "display_data"
    },
    {
     "name": "stdout",
     "output_type": "stream",
     "text": [
      "NRMS=46.36%\n",
      "RMSE=0.9754 V\n"
     ]
    }
   ],
   "source": [
    "from matplotlib import pyplot as plt\n",
    "plt.figure(figsize=(5,2))\n",
    "plt.plot(model.simulate(test).y) #simulate is apply_experiment equivilent\n",
    "plt.plot(test.y)\n",
    "plt.show()\n",
    "from nonlinear_benchmarks.error_metrics import NRMSE, RMSE\n",
    "print(f'NRMS={NRMSE(test.y[model.na:], model.simulate(test).y[model.na:]):.2%}')\n",
    "print(f'RMSE={RMSE(test.y[model.na:], model.simulate(test).y[model.na:]):.4f} V')"
   ]
  },
  {
   "cell_type": "markdown",
   "id": "bc551e9c-0501-486d-b8ba-e2d414d62b1e",
   "metadata": {},
   "source": [
    "### Continous time SUBNET\n",
    "\n",
    "`deepSI_lite` also contains options for continuous-time esitmation. For example: https://arxiv.org/abs/2204.09405 is implemented in `models.SUBNET_CT` given by the following structure.\n",
    "\n",
    "$$\n",
    "\\dot{x}(t) = f_\\theta^{\\text{CT}}(x(t), u(t))\n",
    "$$\n",
    "$$\n",
    "\\hat{y}(t) = h_\\theta(x(t))\n",
    "$$\n",
    "$$\n",
    "x(0) = \\psi_\\theta(u_\\text{past}, y_\\text{past})\n",
    "$$\n",
    "where $\\psi$ is the encoder that initializes the state.\n"
   ]
  },
  {
   "cell_type": "code",
   "execution_count": 32,
   "id": "43bd6552-2884-4c99-a307-ca31111f3d8e",
   "metadata": {},
   "outputs": [
    {
     "name": "stdout",
     "output_type": "stream",
     "text": [
      "Number of samples to train on = 867\n"
     ]
    },
    {
     "data": {
      "application/vnd.jupyter.widget-view+json": {
       "model_id": "b25ba77b17be4b10a39c031ca1a763ae",
       "version_major": 2,
       "version_minor": 0
      },
      "text/plain": [
       "  0%|          | 0/1001 [00:00<?, ?it/s]"
      ]
     },
     "metadata": {},
     "output_type": "display_data"
    },
    {
     "name": "stdout",
     "output_type": "stream",
     "text": [
      "it       0 NRMS loss nan NRMS val 1.00484!! nan samps/sec\n",
      "it      50 NRMS loss 0.43281 NRMS val 0.43648!! 4475.29 samps/sec\n",
      "it     100 NRMS loss 0.25465 NRMS val 0.17438!! 4492.02 samps/sec\n",
      "it     150 NRMS loss 0.21626 NRMS val 0.26487   4518.81 samps/sec\n",
      "it     200 NRMS loss 0.18967 NRMS val 0.24029   4604.52 samps/sec\n",
      "it     250 NRMS loss 0.16368 NRMS val 0.16510!! 4571.49 samps/sec\n",
      "it     300 NRMS loss 0.14797 NRMS val 0.11882!! 4576.37 samps/sec\n",
      "it     350 NRMS loss 0.13688 NRMS val 0.16736   4578.56 samps/sec\n",
      "it     400 NRMS loss 0.12764 NRMS val 0.25270   4578.70 samps/sec\n",
      "it     450 NRMS loss 0.11961 NRMS val 0.31058   4593.71 samps/sec\n",
      "it     500 NRMS loss 0.11332 NRMS val 0.38390   4562.71 samps/sec\n",
      "it     550 NRMS loss 0.10589 NRMS val 0.42049   4524.40 samps/sec\n",
      "it     600 NRMS loss 0.10072 NRMS val 0.43204   4505.99 samps/sec\n",
      "it     650 NRMS loss 0.09725 NRMS val 0.43822   4462.56 samps/sec\n",
      "it     700 NRMS loss 0.09236 NRMS val 0.41764   4493.55 samps/sec\n",
      "it     750 NRMS loss 0.08892 NRMS val 0.39759   4518.56 samps/sec\n",
      "it     800 NRMS loss 0.08804 NRMS val 0.37789   4544.37 samps/sec\n",
      "it     850 NRMS loss 0.08549 NRMS val 0.38551   4570.45 samps/sec\n",
      "it     900 NRMS loss 0.08297 NRMS val 0.38901   4594.38 samps/sec\n",
      "it     950 NRMS loss 0.08028 NRMS val 0.37251   4615.18 samps/sec\n",
      "it   1,000 NRMS loss 0.07858 NRMS val 0.33284   4635.65 samps/sec\n"
     ]
    }
   ],
   "source": [
    "import deepSI_lite as dsi\n",
    "import torch\n",
    "from nonlinear_benchmarks import Cascaded_Tanks\n",
    "from deepSI_lite.networks import euler_integrator, rk4_integrator, rk45_integrator\n",
    "train, test = Cascaded_Tanks()\n",
    "\n",
    "nx, nb, na = 2, 5, 5\n",
    "nu, ny, norm = dsi.get_nu_ny_and_auto_norm(train)\n",
    "torch.manual_seed(0)\n",
    "model_CT = dsi.SUBNET_CT(nu, ny, norm, nx=2, na=4, nb=4, integrator=euler_integrator)\n",
    "train_dict = dsi.fit(model_CT, train[:900], test[900:], n_its=1000, T=30, val_freq=50)"
   ]
  },
  {
   "cell_type": "code",
   "execution_count": 33,
   "id": "b8c93df4",
   "metadata": {},
   "outputs": [
    {
     "data": {
      "image/png": "[encoded data removed]",
      "text/plain": [
       "<Figure size 500x200 with 1 Axes>"
      ]
     },
     "metadata": {},
     "output_type": "display_data"
    },
    {
     "name": "stdout",
     "output_type": "stream",
     "text": [
      "NRMS=43.98%\n",
      "RMSE=0.9248 V\n"
     ]
    }
   ],
   "source": [
    "from matplotlib import pyplot as plt\n",
    "test_p_CT = model_CT.simulate(test)\n",
    "plt.figure(figsize=(5,2))\n",
    "plt.plot(test_p_CT.y) #simulate is apply_experiment equivilent\n",
    "plt.plot(test.y)\n",
    "plt.show()\n",
    "from nonlinear_benchmarks.error_metrics import NRMSE, RMSE\n",
    "print(f'NRMS={NRMSE(test.y[model_CT.na:], test_p_CT.y[model_CT.na:]):.2%}')\n",
    "print(f'RMSE={RMSE(test.y[model_CT.na:], test_p_CT.y[model_CT.na:]):.4f} V')"
   ]
  },
  {
   "cell_type": "markdown",
   "id": "3c9663d7-1f72-4d64-ad57-a30854a2377a",
   "metadata": {},
   "source": [
    "### Changing the intergator\n",
    "\n",
    "You can change out the integrator as desired as"
   ]
  },
  {
   "cell_type": "code",
   "execution_count": 34,
   "id": "0fa87163-7e40-4cfb-9e7b-3a589b00a0f8",
   "metadata": {},
   "outputs": [
    {
     "name": "stdout",
     "output_type": "stream",
     "text": [
      "RMSE=0.9292 V\n"
     ]
    }
   ],
   "source": [
    "from deepSI_lite.networks import euler_integrator, rk4_integrator, rk45_integrator\n",
    "from nonlinear_benchmarks.error_metrics import RMSE\n",
    "\n",
    "#this is a 3 step rk4_integrator\n",
    "integrator = rk4_integrator\n",
    "n_steps = 3\n",
    "model_CT.integrator = lambda f,x,u,dt: integrator(f,x,u,dt, n_steps) \n",
    "print(f'RMSE={RMSE(test.y, model_CT.simulate(test).y):.4f} V')"
   ]
  },
  {
   "cell_type": "markdown",
   "id": "42d7ff99-7e07-40d1-8f86-dda7aa8af9d3",
   "metadata": {},
   "source": [
    "## Cutomizable SUBNET\n",
    "\n",
    "If you want to parameterize differently (number of layers and different functions) than you can pass your desired `f`, `h` and `encoder` ($\\psi_\\theta$) into the SUBNET structure class.  \n",
    "\n",
    "Keep in mind that these function need to have the following function characteristics where $b$ is the batch dimension.\n",
    "\n",
    "$$f_\\theta : \\mathbb{R}^{b \\times n_x} \\times \\mathbb{R}^{b \\times n_u} \\rightarrow \\mathbb{R}^{b \\times n_x}$$\n",
    "\n",
    "$$h_\\theta : \\mathbb{R}^{b \\times n_x} \\times \\mathbb{R}^{b \\times n_u} \\rightarrow \\mathbb{R}^{b \\times n_y} \\text{\\ if feedthrough=True else }h_\\theta : \\mathbb{R}^{b \\times n_x} \\rightarrow \\mathbb{R}^{b \\times n_y}$$\n",
    "\n",
    "$$\\psi_\\theta : \\mathbb{R}^{b \\times n_b \\times n_u} \\times \\mathbb{R}^{b \\times n_a \\times n_y} \\rightarrow \\mathbb{R}^{b \\times n_x}$$\n",
    "\n",
    "Or in the case that the input and output are scalars (`nu = 'scalar'` and `ny = 'scalar'`)\n",
    "\n",
    "$$f_\\theta : \\mathbb{R}^{b \\times n_x} \\times \\mathbb{R}^{b} \\rightarrow \\mathbb{R}^{b \\times n_x}$$\n",
    "\n",
    "$$h_\\theta : \\mathbb{R}^{b \\times n_x} \\times \\mathbb{R}^{b} \\rightarrow \\mathbb{R}^{b} \\text{\\ if feedthrough=True else }h_\\theta : \\mathbb{R}^{b \\times n_x} \\rightarrow \\mathbb{R}^{b}$$\n",
    "\n",
    "$$\\psi_\\theta : \\mathbb{R}^{b \\times n_b} \\times \\mathbb{R}^{b \\times n_a} \\rightarrow \\mathbb{R}^{b \\times n_x}$$\n",
    "\n",
    "If a simple multi layer perceptron or feed forward neural network (with linear residual layer) is desired you can use `MLP_res_net`.\n"
   ]
  },
  {
   "cell_type": "code",
   "execution_count": 35,
   "id": "1919a9b6-0052-428f-a420-2c45c8036dc8",
   "metadata": {},
   "outputs": [
    {
     "name": "stdout",
     "output_type": "stream",
     "text": [
      "IO_normalization_f(\n",
      "  (fun): MLP_res_net(\n",
      "    (net_res): Linear(in_features=3, out_features=2, bias=True)\n",
      "    (net_nonlin): Sequential(\n",
      "      (0): Linear(in_features=3, out_features=64, bias=True)\n",
      "      (1): Sigmoid()\n",
      "      (2): Linear(in_features=64, out_features=64, bias=True)\n",
      "      (3): Sigmoid()\n",
      "      (4): Linear(in_features=64, out_features=2, bias=True)\n",
      "    )\n",
      "  )\n",
      ")\n",
      "IO_normalization_h(\n",
      "  (fun): MLP_res_net(\n",
      "    (net_res): Linear(in_features=2, out_features=1, bias=True)\n",
      "    (net_nonlin): Sequential(\n",
      "      (0): Linear(in_features=2, out_features=10, bias=True)\n",
      "      (1): Tanh()\n",
      "      (2): Linear(in_features=10, out_features=10, bias=True)\n",
      "      (3): Tanh()\n",
      "      (4): Linear(in_features=10, out_features=10, bias=True)\n",
      "      (5): Tanh()\n",
      "      (6): Linear(in_features=10, out_features=10, bias=True)\n",
      "      (7): Tanh()\n",
      "      (8): Linear(in_features=10, out_features=10, bias=True)\n",
      "      (9): Tanh()\n",
      "      (10): Linear(in_features=10, out_features=1, bias=True)\n",
      "    )\n",
      "  )\n",
      ")\n",
      "IO_normalization_encoder(\n",
      "  (fun): MLP_res_net(\n",
      "    (net_res): Linear(in_features=10, out_features=2, bias=True)\n",
      "    (net_nonlin): Sequential(\n",
      "      (0): Linear(in_features=10, out_features=15, bias=True)\n",
      "      (1): Tanh()\n",
      "      (2): Linear(in_features=15, out_features=2, bias=True)\n",
      "    )\n",
      "  )\n",
      ")\n",
      "SUBNET(\n",
      "  (f): IO_normalization_f(\n",
      "    (fun): MLP_res_net(\n",
      "      (net_res): Linear(in_features=3, out_features=2, bias=True)\n",
      "      (net_nonlin): Sequential(\n",
      "        (0): Linear(in_features=3, out_features=64, bias=True)\n",
      "        (1): Sigmoid()\n",
      "        (2): Linear(in_features=64, out_features=64, bias=True)\n",
      "        (3): Sigmoid()\n",
      "        (4): Linear(in_features=64, out_features=2, bias=True)\n",
      "      )\n",
      "    )\n",
      "  )\n",
      "  (h): IO_normalization_h(\n",
      "    (fun): MLP_res_net(\n",
      "      (net_res): Linear(in_features=2, out_features=1, bias=True)\n",
      "      (net_nonlin): Sequential(\n",
      "        (0): Linear(in_features=2, out_features=10, bias=True)\n",
      "        (1): Tanh()\n",
      "        (2): Linear(in_features=10, out_features=10, bias=True)\n",
      "        (3): Tanh()\n",
      "        (4): Linear(in_features=10, out_features=10, bias=True)\n",
      "        (5): Tanh()\n",
      "        (6): Linear(in_features=10, out_features=10, bias=True)\n",
      "        (7): Tanh()\n",
      "        (8): Linear(in_features=10, out_features=10, bias=True)\n",
      "        (9): Tanh()\n",
      "        (10): Linear(in_features=10, out_features=1, bias=True)\n",
      "      )\n",
      "    )\n",
      "  )\n",
      "  (encoder): IO_normalization_encoder(\n",
      "    (fun): MLP_res_net(\n",
      "      (net_res): Linear(in_features=10, out_features=2, bias=True)\n",
      "      (net_nonlin): Sequential(\n",
      "        (0): Linear(in_features=10, out_features=15, bias=True)\n",
      "        (1): Tanh()\n",
      "        (2): Linear(in_features=15, out_features=2, bias=True)\n",
      "      )\n",
      "    )\n",
      "  )\n",
      ")\n"
     ]
    }
   ],
   "source": [
    "from deepSI_lite.networks import MLP_res_net\n",
    "from torch import nn\n",
    "from deepSI_lite.models import SUBNET\n",
    "from deepSI_lite import get_nu_ny_and_auto_norm\n",
    "from nonlinear_benchmarks import Cascaded_Tanks\n",
    "train, test = Cascaded_Tanks()\n",
    "nx, nb, na = 2, 5, 5\n",
    "nu, ny, norm = get_nu_ny_and_auto_norm(train)\n",
    "feedthrough = False\n",
    "\n",
    "f =       norm.f(       MLP_res_net(input_size = [nx , nu],                       output_size = nx, activation=nn.Sigmoid))\n",
    "h =       norm.h(       MLP_res_net(input_size = [nx, nu] if feedthrough else nx, output_size = ny, n_hidden_layers=5, n_hidden_nodes=10))\n",
    "encoder = norm.encoder( MLP_res_net(input_size = [(nb,nu) , (na,ny)],             output_size = nx, n_hidden_layers=1, n_hidden_nodes=15))\n",
    "\n",
    "print(f) #has f(x,u) -> x with batch\n",
    "print(h) #has h(x,u) -> y with batch if feedthrough = True else h(x) -> y\n",
    "print(encoder) #has encoder(upast, ypast) -> x\n",
    "\n",
    "print(SUBNET(nu, ny, norm, nx=nx, nb=nb, na=na, f=f, h=h, encoder=encoder))"
   ]
  },
  {
   "cell_type": "markdown",
   "id": "80378da0-9035-40d9-95ce-84d9ffe0db68",
   "metadata": {},
   "source": [
    "## Creating you own SUBNET structure\n",
    "\n",
    "A limitation in the `SUBNET` class is that the `f`, `h` and the `encoder` cannot share any parameters. If this is not the case than you can still create you own cutom SUBNET structure.\n",
    "\n",
    "This is done by inhereting `Custom_SUBNET` and defining a forward method with the characteristic:\n",
    "* `forward(upast, ypast, ufuture) = yfuture_sim`\n",
    "  * `upast.shape = (batch_dim, nb, nu)`,\n",
    "  * `ypast.shape = (batch_dim, na, ny)`,\n",
    "  * `ufuture.shape = (batch_dim, T, nu)`,\n",
    "  * `yfuture_sim.shape = (batch_dim, T, ny)`\n",
    "\n",
    "(and removing `nu` and `ny` from these shapes if they are `'scalar'`)\n",
    "\n",
    "Below you can find an example for a LPV structure, see: https://arxiv.org/abs/2204.04060\n",
    "\n",
    "This structure does not accept `nu='scalar'` or `ny = 'scalar'` and thus \n"
   ]
  },
  {
   "cell_type": "code",
   "execution_count": 36,
   "id": "fc270508-30a7-4955-ab1c-b7709293956b",
   "metadata": {},
   "outputs": [
    {
     "data": {
      "text/plain": [
       "SUBNET_LPV(\n",
       "  (A): Bilinear()\n",
       "  (B): Bilinear()\n",
       "  (C): Bilinear()\n",
       "  (D): Bilinear()\n",
       "  (encoder): IO_normalization_encoder(\n",
       "    (fun): MLP_res_net(\n",
       "      (net_res): Linear(in_features=10, out_features=2, bias=True)\n",
       "      (net_nonlin): Sequential(\n",
       "        (0): Linear(in_features=10, out_features=64, bias=True)\n",
       "        (1): Tanh()\n",
       "        (2): Linear(in_features=64, out_features=64, bias=True)\n",
       "        (3): Tanh()\n",
       "        (4): Linear(in_features=64, out_features=2, bias=True)\n",
       "      )\n",
       "    )\n",
       "  )\n",
       "  (scheduling_net): IO_normalization_f(\n",
       "    (fun): MLP_res_net(\n",
       "      (net_res): Linear(in_features=3, out_features=2, bias=True)\n",
       "      (net_nonlin): Sequential(\n",
       "        (0): Linear(in_features=3, out_features=64, bias=True)\n",
       "        (1): Tanh()\n",
       "        (2): Linear(in_features=64, out_features=64, bias=True)\n",
       "        (3): Tanh()\n",
       "        (4): Linear(in_features=64, out_features=2, bias=True)\n",
       "      )\n",
       "    )\n",
       "  )\n",
       ")"
      ]
     },
     "execution_count": 36,
     "metadata": {},
     "output_type": "execute_result"
    }
   ],
   "source": [
    "from deepSI_lite.models import Custom_SUBNET, validate_custom_SUBNET_structure\n",
    "from deepSI_lite import Norm, get_nu_ny_and_auto_norm\n",
    "from deepSI_lite.networks import Bilinear, MLP_res_net\n",
    "import torch\n",
    "import numpy as np\n",
    "class SUBNET_LPV(Custom_SUBNET):\n",
    "    def __init__(self, nu, ny, norm:Norm, nx, n_schedual, na, nb, scheduling_net=None, A=None, B=None, C=None, D=None, encoder=None, feedthrough=True):\n",
    "        if np.any((2*abs(norm.ymean)>norm.ystd).numpy()) or np.any((2*abs(norm.umean)>norm.ustd).numpy()):\n",
    "            from warnings import warn\n",
    "            warn('SUBNET_LPV assumes that the data is approximatly zero mean. Not doing so can lead to unintended behaviour.')\n",
    "        assert isinstance(nu, int) and isinstance(ny, int) and isinstance(n_schedual, int) and feedthrough, 'SUBNET_LPV requires the input, output schedualing parameter to be vectors and feedthrough to be present'\n",
    "        super().__init__()\n",
    "        self.nu, self.ny, self.norm, self.nx, self.n_schedual, self.na, self.nb, self.feedthrough = nu, ny, norm, nx, n_schedual, na, nb, feedthrough\n",
    "        self.A = A if A is not None else Bilinear(n_in=nx, n_out=nx, n_schedual=n_schedual)\n",
    "        self.B = B if B is not None else Bilinear(n_in=nu, n_out=nx, n_schedual=n_schedual, std_input=norm.ustd)\n",
    "        self.C = C if C is not None else Bilinear(n_in=nx, n_out=ny, n_schedual=n_schedual, std_output=norm.ystd)\n",
    "        self.D = D if D is not None else Bilinear(n_in=nu, n_out=ny, n_schedual=n_schedual, std_output=norm.ystd, std_input=norm.ustd)\n",
    "        self.encoder = encoder if encoder is not None else norm.encoder(MLP_res_net(input_size = [(nb,nu) , (na,ny)], output_size = nx))\n",
    "        self.scheduling_net = scheduling_net if scheduling_net is not None else norm.f(MLP_res_net(input_size = [nx , nu], output_size = n_schedual))\n",
    "        validate_custom_SUBNET_structure(self) #does checks if forward is working as intended\n",
    "    \n",
    "    def forward(self, upast: torch.Tensor, ypast: torch.Tensor, ufuture: torch.Tensor, yfuture: torch.Tensor=None):\n",
    "        bmv = lambda A, x: torch.bmm(A, x[:, :, None])[:,:,0] #batched matrix vector multiply\n",
    "        yfuture_sim = []\n",
    "        x = self.encoder(upast, ypast)\n",
    "        for u in ufuture.swapaxes(0,1): #iterate over time\n",
    "            p = self.scheduling_net(x, u)\n",
    "            A, B, C, D = self.A(p), self.B(p), self.C(p), self.D(p)\n",
    "            y = bmv(C, x) + bmv(D, u)\n",
    "            x = bmv(A, x) + bmv(B, u)\n",
    "            yfuture_sim.append(y)\n",
    "        return torch.stack(yfuture_sim, dim=1)\n",
    "\n",
    "from nonlinear_benchmarks import Silverbox\n",
    "train, test = Silverbox(atleast_2d=True)\n",
    "nx, nb, na = 2, 5, 5\n",
    "nu, ny, norm = get_nu_ny_and_auto_norm(train)\n",
    "\n",
    "SUBNET_LPV(nu, ny, norm, nx, n_schedual=2, na=na, nb=nb)"
   ]
  },
  {
   "cell_type": "markdown",
   "id": "57985b21-cc7d-471a-8e11-b49ecc5e7a56",
   "metadata": {},
   "source": [
    "## Exporting functions\n",
    "\n",
    "This can for since be loaded in https://netron.app/ to see the computation graph or with MATLAB or even CasaDI with some effort."
   ]
  },
  {
   "cell_type": "code",
   "execution_count": 37,
   "id": "a301ea5f-a861-4e6e-9b04-531bf4782e4c",
   "metadata": {},
   "outputs": [],
   "source": [
    "import torch\n",
    "from torch import nn\n",
    "class Fun(nn.Module):\n",
    "    def __init__(self, f, model):\n",
    "        super().__init__()\n",
    "        self.f = f\n",
    "        self.model = model\n",
    "    def forward(self, *args, **kwargs):\n",
    "        with torch.no_grad():\n",
    "            return self.f(*args, **kwargs)\n",
    "\n",
    "f = Fun(model.f, model)\n",
    "x = torch.zeros((1, nx))\n",
    "u = torch.zeros((1,1))[0] if model.nu == 'scalar' else torch.zeros((1,model.nu))\n",
    "\n",
    "torch.onnx.export(\n",
    "    f,                  # the model (in this case Fun class wrapping your model)\n",
    "    (x, u),             # input tensors (in this case x and u)\n",
    "    \"f.onnx\",       # file name or file path where the model will be saved\n",
    "    opset_version=12    # specify the ONNX opset version\n",
    ")\n",
    "\n"
   ]
  },
  {
   "cell_type": "markdown",
   "id": "8d038b3f",
   "metadata": {},
   "source": [
    "Than in matlab you can import the function as:\n",
    "```matlab\n",
    "params = importONNXFunction('f.onnx', 'fmatlab.m')\n",
    "x = zeros(1,6)\n",
    "u = zeros(1)\n",
    "xnext = fmatlab(x, u, params)\n",
    "```\n",
    "\n",
    "keep in mind that this still includes the batch dimension (here 1). Also `importONNXFunction` function is missing a number of operations that are included ONNX, so it might sometimes complain.\n",
    "\n"
   ]
  },
  {
   "cell_type": "markdown",
   "id": "c2d8c67a-76d5-4b8a-a01a-1e281a248e60",
   "metadata": {},
   "source": [
    "## Reproducability\n",
    "\n",
    "If you set a manual seed with `torch.manual_seed(0)` before creating the networks and the model than the results is always the same. "
   ]
  },
  {
   "cell_type": "code",
   "execution_count": 38,
   "id": "57f19cd0-2605-4bc5-b0ce-27b23f1eb1cb",
   "metadata": {},
   "outputs": [
    {
     "name": "stdout",
     "output_type": "stream",
     "text": [
      "Number of samples to train on = 61739\n"
     ]
    },
    {
     "data": {
      "application/vnd.jupyter.widget-view+json": {
       "model_id": "2cff36b7ccea475fa70cee44f60f907e",
       "version_major": 2,
       "version_minor": 0
      },
      "text/plain": [
       "  0%|          | 0/101 [00:00<?, ?it/s]"
      ]
     },
     "metadata": {},
     "output_type": "display_data"
    },
    {
     "name": "stdout",
     "output_type": "stream",
     "text": [
      "it       0 NRMS loss nan NRMS val 0.99626!! nan samps/sec\n",
      "it      10 NRMS loss 0.96911 NRMS val 0.91461!! 3904.42 samps/sec\n",
      "it      20 NRMS loss 0.88075 NRMS val 0.87685!! 3714.70 samps/sec\n",
      "it      30 NRMS loss 0.84420 NRMS val 0.84332!! 3695.52 samps/sec\n",
      "it      40 NRMS loss 0.75531 NRMS val 0.58872!! 3665.42 samps/sec\n",
      "it      50 NRMS loss 0.51822 NRMS val 0.54371!! 3600.91 samps/sec\n",
      "it      60 NRMS loss 0.45830 NRMS val 0.49202!! 3578.40 samps/sec\n",
      "it      70 NRMS loss 0.40896 NRMS val 0.41274!! 3534.78 samps/sec\n",
      "it      80 NRMS loss 0.36910 NRMS val 0.36029!! 3537.49 samps/sec\n",
      "it      90 NRMS loss 0.32021 NRMS val 0.31022!! 3535.03 samps/sec\n",
      "it     100 NRMS loss 0.27207 NRMS val 0.26480!! 3540.78 samps/sec\n",
      "Number of samples to train on = 61739\n"
     ]
    },
    {
     "data": {
      "application/vnd.jupyter.widget-view+json": {
       "model_id": "6811d28a0b8b4c41a014ea4ce3efcf72",
       "version_major": 2,
       "version_minor": 0
      },
      "text/plain": [
       "  0%|          | 0/101 [00:00<?, ?it/s]"
      ]
     },
     "metadata": {},
     "output_type": "display_data"
    },
    {
     "name": "stdout",
     "output_type": "stream",
     "text": [
      "it       0 NRMS loss nan NRMS val 0.99626!! nan samps/sec\n",
      "it      10 NRMS loss 0.96911 NRMS val 0.91461!! 3617.96 samps/sec\n",
      "it      20 NRMS loss 0.88075 NRMS val 0.87685!! 3596.12 samps/sec\n",
      "it      30 NRMS loss 0.84420 NRMS val 0.84332!! 3538.43 samps/sec\n",
      "it      40 NRMS loss 0.75531 NRMS val 0.58872!! 3553.20 samps/sec\n",
      "it      50 NRMS loss 0.51822 NRMS val 0.54371!! 3551.10 samps/sec\n",
      "it      60 NRMS loss 0.45830 NRMS val 0.49202!! 3552.35 samps/sec\n",
      "it      70 NRMS loss 0.40896 NRMS val 0.41274!! 3555.09 samps/sec\n",
      "it      80 NRMS loss 0.36910 NRMS val 0.36029!! 3542.79 samps/sec\n",
      "it      90 NRMS loss 0.32021 NRMS val 0.31022!! 3556.92 samps/sec\n",
      "it     100 NRMS loss 0.27207 NRMS val 0.26480!! 3560.43 samps/sec\n"
     ]
    }
   ],
   "source": [
    "import deepSI_lite as dsi\n",
    "from nonlinear_benchmarks import Silverbox\n",
    "import numpy as np\n",
    "import torch\n",
    "\n",
    "train_val, tests = Silverbox()\n",
    "test = tests[0]\n",
    "s = int(0.95*len(train_val))\n",
    "train, val = train_val[:s], train_val[s:]\n",
    "nu, ny, norm = dsi.get_nu_ny_and_auto_norm(train_val)\n",
    "\n",
    "for _ in range(2):\n",
    "    torch.manual_seed(0)\n",
    "    subnet = dsi.SUBNET(nu, ny, norm, nx=4, nb=20, na=20)\n",
    "    fit_res_subnet = dsi.fit(subnet, train, val, n_its=100, val_freq=10)\n"
   ]
  },
  {
   "cell_type": "markdown",
   "id": "34e44ddb-2419-40d3-adda-7969af433b6a",
   "metadata": {},
   "source": [
    "## Regularization and custom cost functions\n",
    "\n",
    "In `fit` you can give custom cost function like by giving an argument for `loss_fun`."
   ]
  },
  {
   "cell_type": "code",
   "execution_count": 39,
   "id": "0721ca49-a48b-4092-be7b-62bf95314776",
   "metadata": {},
   "outputs": [
    {
     "name": "stdout",
     "output_type": "stream",
     "text": [
      "Number of samples to train on = 980\n"
     ]
    },
    {
     "data": {
      "application/vnd.jupyter.widget-view+json": {
       "model_id": "dc348f8e00914cda918ba52345e87e86",
       "version_major": 2,
       "version_minor": 0
      },
      "text/plain": [
       "  0%|          | 0/102 [00:00<?, ?it/s]"
      ]
     },
     "metadata": {},
     "output_type": "display_data"
    },
    {
     "name": "stdout",
     "output_type": "stream",
     "text": [
      "it       0 NRMS loss nan NRMS val 1.04559!! nan samps/sec\n",
      "it     100 NRMS loss 0.81162 NRMS val 1.01407!! 729.69 samps/sec\n"
     ]
    }
   ],
   "source": [
    "from deepSI_lite import SUBNET, get_nu_ny_and_auto_norm\n",
    "from deepSI_lite.fitting import compute_NMSE\n",
    "import torch\n",
    "from nonlinear_benchmarks import Cascaded_Tanks\n",
    "import numpy as np\n",
    "train, test = Cascaded_Tanks()\n",
    "\n",
    "nx, nb, na = 2, 5, 5\n",
    "nu, ny, norm = get_nu_ny_and_auto_norm(train)\n",
    "model = SUBNET(nu, ny, norm, nx=nx, nb=nb, na=na)\n",
    "\n",
    "def ridge_L2_regularization(model, upast, ypast, ufuture, yfuture, kappa=1):\n",
    "    yfuture_model = model(upast, ypast, ufuture)\n",
    "    amp = torch.stack([(p**2).sum() for p in model.parameters()])/torch.as_tensor([p.numel() for p in model.parameters()]) #parameter amplitude\n",
    "    return ((yfuture-yfuture_model)**2/model.norm.ystd**2).mean() + torch.mean(amp)*kappa\n",
    "\n",
    "from deepSI_lite import fit\n",
    "kappa = 0.1\n",
    "my_loss = lambda *args: ridge_L2_regularization(*args, kappa=kappa)\n",
    "train_dict = fit(model, train, test, n_its=101, T=40, batch_size=64, val_freq=100, loss_fun=my_loss, val_fun=compute_NMSE)"
   ]
  },
  {
   "cell_type": "markdown",
   "id": "b68aa1d3-166a-41bd-8d11-400495979e0a",
   "metadata": {},
   "source": [
    "## Training/fitting details"
   ]
  },
  {
   "cell_type": "code",
   "execution_count": 40,
   "id": "57f5d31b-9c30-4add-94eb-55f3e829583c",
   "metadata": {},
   "outputs": [
    {
     "name": "stdout",
     "output_type": "stream",
     "text": [
      "Number of samples to train on = 61739\n"
     ]
    },
    {
     "data": {
      "application/vnd.jupyter.widget-view+json": {
       "model_id": "320a06d92d73453093a4e9196ba7c3ed",
       "version_major": 2,
       "version_minor": 0
      },
      "text/plain": [
       "  0%|          | 0/202 [00:00<?, ?it/s]"
      ]
     },
     "metadata": {},
     "output_type": "display_data"
    },
    {
     "name": "stdout",
     "output_type": "stream",
     "text": [
      "it       0 NRMS loss nan NRMS val 0.94222!! nan samps/sec\n",
      "it      10 NRMS loss 0.83779 NRMS val 0.71031!! 3621.72 samps/sec\n",
      "it      20 NRMS loss 0.53195 NRMS val 0.37894!! 3620.97 samps/sec\n",
      "it      30 NRMS loss 0.35080 NRMS val 0.31227!! 3619.47 samps/sec\n",
      "it      40 NRMS loss 0.27582 NRMS val 0.28759!! 3601.72 samps/sec\n",
      "it      50 NRMS loss 0.25068 NRMS val 0.25593!! 3624.81 samps/sec\n",
      "it      60 NRMS loss 0.22850 NRMS val 0.23592!! 3575.07 samps/sec\n",
      "it      70 NRMS loss 0.20390 NRMS val 0.21209!! 3592.85 samps/sec\n",
      "it      80 NRMS loss 0.18199 NRMS val 0.18607!! 3592.69 samps/sec\n",
      "it      90 NRMS loss 0.16168 NRMS val 0.15986!! 3595.61 samps/sec\n",
      "it     100 NRMS loss 0.13624 NRMS val 0.13161!! 3598.93 samps/sec\n",
      "it     110 NRMS loss 0.11548 NRMS val 0.11078!! 3566.20 samps/sec\n",
      "it     120 NRMS loss 0.09990 NRMS val 0.09464!! 3550.93 samps/sec\n",
      "it     130 NRMS loss 0.08603 NRMS val 0.08397!! 3556.68 samps/sec\n",
      "it     140 NRMS loss 0.08553 NRMS val 0.07959!! 3568.17 samps/sec\n",
      "it     150 NRMS loss 0.07856 NRMS val 0.07453!! 3576.17 samps/sec\n",
      "it     160 NRMS loss 0.07228 NRMS val 0.07198!! 3568.40 samps/sec\n",
      "it     170 NRMS loss 0.06824 NRMS val 0.07117!! 3576.47 samps/sec\n",
      "it     180 NRMS loss 0.07021 NRMS val 0.08080   3581.84 samps/sec\n",
      "it     190 NRMS loss 0.06583 NRMS val 0.07901   3585.28 samps/sec\n",
      "it     200 NRMS loss 0.06688 NRMS val 0.08364   3591.34 samps/sec\n"
     ]
    }
   ],
   "source": [
    "import deepSI_lite as dsi\n",
    "import nonlinear_benchmarks as nlb\n",
    "from matplotlib import pyplot as plt\n",
    "\n",
    "train_val, test = nlb.Silverbox()\n",
    "nu, ny, norm = dsi.get_nu_ny_and_auto_norm(train_val)\n",
    "train_val, test = norm.transform(train_val), norm.transform(test)\n",
    "s = int(len(train_val)*0.95)\n",
    "train, val = train_val[:s], train_val[s:]\n",
    "model = dsi.models.SUBNET(nu, ny, dsi.Norm(0, 1, 0, 1), nx=4)\n",
    "train_dict = dsi.fit(model, train, val, n_its=201, val_freq=10)\n"
   ]
  },
  {
   "cell_type": "markdown",
   "id": "70be2b71-6e96-45cf-98f1-a74164c5a160",
   "metadata": {},
   "source": [
    "The training dict contains a lot of information as seen below:"
   ]
  },
  {
   "cell_type": "code",
   "execution_count": 41,
   "id": "96590657-6295-4cd7-bf13-fb925ecdbe05",
   "metadata": {},
   "outputs": [
    {
     "data": {
      "text/plain": [
       "dict_keys(['best_model', 'best_optimizer_state', 'last_model', 'last_optimizer_state', 'NRMS_train', 'NRMS_val', 'samples/sec', 'val_freq', 'batch_size', 'it_counter'])"
      ]
     },
     "execution_count": 41,
     "metadata": {},
     "output_type": "execute_result"
    }
   ],
   "source": [
    "train_dict.keys()\n",
    "# - 'best_model': The best model (with the lowest validation loss).\n",
    "# - 'best_optimizer_state': Optimizer state when the best model was found.\n",
    "# - 'last_model': The model at the end of training.\n",
    "# - 'last_optimizer_state': The optimizer state at the end of training.\n",
    "# - 'NRMS_train': Training loss history (normalized root mean square error).\n",
    "# - 'NRMS_val': Validation loss history (normalized root mean square error).\n",
    "# - 'samples/sec': Number of data samples processed per second.\n",
    "# - 'val_freq': Validation frequency.\n",
    "# - 'batch_size': Batch size used during training.\n",
    "# - 'it_counter': List of iteration counts corresponding to each validation point."
   ]
  },
  {
   "cell_type": "markdown",
   "id": "294811fd-8496-460b-b9ab-1fa62c332e1f",
   "metadata": {},
   "source": [
    "### Trainig curve plots"
   ]
  },
  {
   "cell_type": "code",
   "execution_count": 42,
   "id": "64fdc636-5ad4-4398-ba82-40334d81b0ef",
   "metadata": {},
   "outputs": [
    {
     "data": {
      "image/png": "[encoded data removed]",
      "text/plain": [
       "<Figure size 400x150 with 1 Axes>"
      ]
     },
     "metadata": {},
     "output_type": "display_data"
    }
   ],
   "source": [
    "import numpy as np\n",
    "plt.figure(figsize=(4,1.5))\n",
    "plt.plot(train_dict['it_counter'], train_dict['NRMS_val'])\n",
    "plt.plot(train_dict['it_counter'], train_dict['NRMS_train'])\n",
    "plt.legend(['NRMS validation', 'NRMS train'])\n",
    "plt.grid(); plt.xlabel('it'); plt.ylabel('validation\\nmeasure')\n",
    "plt.show()"
   ]
  },
  {
   "cell_type": "markdown",
   "id": "700858a9-93f6-424c-b0de-e5b539ef8b4f",
   "metadata": {},
   "source": [
    "## Restarting training"
   ]
  },
  {
   "cell_type": "markdown",
   "id": "bca4d9e4-f380-4fad-b9b0-f1f44f815df1",
   "metadata": {},
   "source": [
    "If you want to restart training with the same optimizer you can use:"
   ]
  },
  {
   "cell_type": "code",
   "execution_count": 43,
   "id": "b6a38035-5322-4512-bfc4-e07282f49ce5",
   "metadata": {},
   "outputs": [
    {
     "name": "stdout",
     "output_type": "stream",
     "text": [
      "Number of samples to train on = 61739\n"
     ]
    },
    {
     "data": {
      "application/vnd.jupyter.widget-view+json": {
       "model_id": "f9db436486ed46d4a42942385256d659",
       "version_major": 2,
       "version_minor": 0
      },
      "text/plain": [
       "  0%|          | 0/202 [00:00<?, ?it/s]"
      ]
     },
     "metadata": {},
     "output_type": "display_data"
    },
    {
     "name": "stdout",
     "output_type": "stream",
     "text": [
      "it       0 NRMS loss nan NRMS val 0.06717!! nan samps/sec\n",
      "it      10 NRMS loss 0.06928 NRMS val 0.10416   3653.45 samps/sec\n",
      "it      20 NRMS loss 0.08278 NRMS val 0.09314   3612.47 samps/sec\n",
      "it      30 NRMS loss 0.07425 NRMS val 0.06692!! 3564.36 samps/sec\n",
      "it      40 NRMS loss 0.06091 NRMS val 0.05533!! 3576.01 samps/sec\n",
      "it      50 NRMS loss 0.06163 NRMS val 0.08280   3582.10 samps/sec\n",
      "it      60 NRMS loss 0.06084 NRMS val 0.05746   3581.06 samps/sec\n",
      "it      70 NRMS loss 0.05917 NRMS val 0.05523!! 3562.83 samps/sec\n",
      "it      80 NRMS loss 0.05511 NRMS val 0.06172   3566.25 samps/sec\n",
      "it      90 NRMS loss 0.05593 NRMS val 0.05128!! 3577.94 samps/sec\n",
      "it     100 NRMS loss 0.06536 NRMS val 0.11852   3583.64 samps/sec\n",
      "it     110 NRMS loss 0.06302 NRMS val 0.05014!! 3586.45 samps/sec\n",
      "it     120 NRMS loss 0.05203 NRMS val 0.05096   3592.64 samps/sec\n",
      "it     130 NRMS loss 0.04926 NRMS val 0.05559   3598.78 samps/sec\n",
      "it     140 NRMS loss 0.05323 NRMS val 0.06890   3598.39 samps/sec\n",
      "it     150 NRMS loss 0.05185 NRMS val 0.06291   3602.70 samps/sec\n",
      "it     160 NRMS loss 0.05316 NRMS val 0.05860   3593.77 samps/sec\n",
      "it     170 NRMS loss 0.04853 NRMS val 0.05156   3585.77 samps/sec\n",
      "it     180 NRMS loss 0.05845 NRMS val 0.04722!! 3590.83 samps/sec\n",
      "it     190 NRMS loss 0.08121 NRMS val 0.17444   3592.89 samps/sec\n",
      "it     200 NRMS loss 0.07852 NRMS val 0.09505   3594.93 samps/sec\n"
     ]
    }
   ],
   "source": [
    "import torch\n",
    "model = train_dict['last_model']\n",
    "\n",
    "optimizer = torch.optim.Adam(model.parameters()) #or the optimizer that you selected\n",
    "optimizer.load_state_dict(train_dict['last_optimizer_state'])\n",
    "\n",
    "train_dict = dsi.fit(model, train, val, n_its=201, val_freq=10, optimizer=optimizer)\n"
   ]
  },
  {
   "cell_type": "markdown",
   "id": "d88f1325-88e0-4432-aece-532fc798e0b7",
   "metadata": {},
   "source": [
    "### Recovering from a crash\n",
    "\n",
    "After a crash (e.g. a forced windows update) you can recover the training progress with the following steps:"
   ]
  },
  {
   "cell_type": "code",
   "execution_count": 44,
   "id": "ef7df4ad-9e25-4155-b123-76b88f5b18d9",
   "metadata": {},
   "outputs": [
    {
     "name": "stdout",
     "output_type": "stream",
     "text": [
      "Training results saving directory: C:\\Users\\s143190\\AppData\\Local\\deepSI-checkpoints/\n"
     ]
    }
   ],
   "source": [
    "import deepSI_lite as dsi\n",
    "folder = dsi.fitting.get_checkpoint_dir()\n",
    "print('Training results saving directory:', folder) #you can manually go here\n",
    "import cloudpickle\n",
    "train_dict = cloudpickle.load(open(folder + 'SUBNET-mmBCKg.pth','rb'))\n",
    "# train_dict.keys() contains all the info \n",
    "model = train_dict['best_model']\n"
   ]
  },
  {
   "cell_type": "markdown",
   "id": "79f39981",
   "metadata": {},
   "source": [
    "## Saving and loading models\n",
    "\n"
   ]
  },
  {
   "cell_type": "markdown",
   "id": "5f4c1029",
   "metadata": {},
   "source": [
    "Saving and loading model can be done in multiple ways. The first and most straightforward way is to use `cloudpickle`."
   ]
  },
  {
   "cell_type": "code",
   "execution_count": 45,
   "id": "4e342d1c",
   "metadata": {},
   "outputs": [],
   "source": [
    "import deepSI_lite as dsi\n",
    "model = dsi.SUBNET(nu='scalar', ny='scalar', norm=dsi.Norm(0,1,0,1), nx=2, na=4, nb=4)\n",
    "\n",
    "import cloudpickle\n",
    "cloudpickle.dump(model, open('model.pth','wb'))\n",
    "model = cloudpickle.load(open('model.pth','rb'))"
   ]
  },
  {
   "cell_type": "markdown",
   "id": "00926837",
   "metadata": {},
   "source": [
    "Another good option is `safetensors` with state dicts. This makes it much safer to share since safetensors files cannot execute arbitrary code unlike cloupickle, reducing risks associated with loading untrusted models."
   ]
  },
  {
   "cell_type": "code",
   "execution_count": 51,
   "id": "ad6143d4",
   "metadata": {},
   "outputs": [
    {
     "data": {
      "text/plain": [
       "<All keys matched successfully>"
      ]
     },
     "execution_count": 51,
     "metadata": {},
     "output_type": "execute_result"
    }
   ],
   "source": [
    "from safetensors.torch import save_file\n",
    "import deepSI_lite as dsi\n",
    "model = dsi.SUBNET(nu='scalar', ny='scalar', norm=dsi.Norm(0,1,0,1), nx=2, na=4, nb=4)\n",
    "save_file(model.state_dict(), \"model_state-1.safetensors\")\n",
    "del model\n",
    "\n",
    "from safetensors.torch import load_file\n",
    "model = dsi.SUBNET(nu='scalar', ny='scalar', norm=dsi.Norm(0,1,0,1), nx=2, na=4, nb=4) #recreate the model structure\n",
    "state = load_file(\"model_state-1.safetensors\")\n",
    "model.load_state_dict(state) #load the parameters"
   ]
  },
  {
   "cell_type": "markdown",
   "id": "3adc6e0e-9124-4249-ab54-8c7f82dfa5ce",
   "metadata": {},
   "source": [
    "## n-step errors\n",
    "\n",
    "One of the best ways to analyise and develop models is in my opinion to analyse the n-step-error.\n",
    "\n",
    "n-step-error is very simple; it is the (normalized) expected error after taking \n",
    " steps forward in time after state initialization. (see: https://arxiv.org/abs/2012.07697 for details or docs for details)"
   ]
  },
  {
   "cell_type": "code",
   "execution_count": 52,
   "id": "753363ef-50c1-4206-90f8-7fafe08e8987",
   "metadata": {},
   "outputs": [
    {
     "name": "stdout",
     "output_type": "stream",
     "text": [
      "Number of samples to train on = 61739\n"
     ]
    },
    {
     "data": {
      "application/vnd.jupyter.widget-view+json": {
       "model_id": "ddd6a71fde8d45b69e33b511525e9593",
       "version_major": 2,
       "version_minor": 0
      },
      "text/plain": [
       "  0%|          | 0/1002 [00:00<?, ?it/s]"
      ]
     },
     "metadata": {},
     "output_type": "display_data"
    },
    {
     "name": "stdout",
     "output_type": "stream",
     "text": [
      "it       0 NRMS loss nan NRMS val 0.97994!! nan samps/sec\n",
      "it     100 NRMS loss 0.65414 NRMS val 0.27658!! 4079.07 samps/sec\n",
      "it     200 NRMS loss 0.18633 NRMS val 0.15659!! 3859.93 samps/sec\n",
      "it     300 NRMS loss 0.10099 NRMS val 0.09971!! 3657.61 samps/sec\n",
      "it     400 NRMS loss 0.12960 NRMS val 0.10534   3491.06 samps/sec\n",
      "it     500 NRMS loss 0.06267 NRMS val 0.09684!! 3392.09 samps/sec\n",
      "it     600 NRMS loss 0.06302 NRMS val 0.05680!! 3371.43 samps/sec\n",
      "it     700 NRMS loss 0.04616 NRMS val 0.08457   3342.54 samps/sec\n",
      "it     800 NRMS loss 0.12256 NRMS val 0.09796   3257.58 samps/sec\n",
      "it     900 NRMS loss 0.05221 NRMS val 0.04576!! 3236.53 samps/sec\n",
      "it   1,000 NRMS loss 0.03986 NRMS val 0.04138!! 3127.32 samps/sec\n"
     ]
    }
   ],
   "source": [
    "import deepSI_lite as dsi\n",
    "import nonlinear_benchmarks as nlb\n",
    "from matplotlib import pyplot as plt\n",
    "\n",
    "train_val, test = nlb.Silverbox()\n",
    "nu, ny, norm = dsi.get_nu_ny_and_auto_norm(train_val)\n",
    "train_val, test = norm.transform(train_val), norm.transform(test) #normalize data\n",
    "s = int(len(train_val)*0.95)\n",
    "train, val = train_val[:s], train_val[s:]\n",
    "model = dsi.models.SUBNET(nu, ny, dsi.Norm(0, 1, 0, 1), nx=4)\n",
    "train_dict = dsi.fit(model, train, val, n_its=1001, val_freq=100)\n"
   ]
  },
  {
   "cell_type": "code",
   "execution_count": 53,
   "id": "35c8407a-8318-443a-95df-6bdf0f49e22a",
   "metadata": {},
   "outputs": [],
   "source": [
    "(upast, ypast, ufuture, yfuture), ids = model.create_arrays(test, T=100, stride=10) #stride to not evaluate on all available datapoints and thus safe compute and memory.\n",
    "import torch\n",
    "with torch.no_grad():\n",
    "    yfuture_pred = model(upast[ids], ypast[ids], ufuture[ids])"
   ]
  },
  {
   "cell_type": "code",
   "execution_count": 54,
   "id": "db15c44f-179b-40dc-9319-2c4363524f88",
   "metadata": {},
   "outputs": [
    {
     "data": {
      "image/png": "[encoded data removed]",
      "text/plain": [
       "<Figure size 500x200 with 1 Axes>"
      ]
     },
     "metadata": {},
     "output_type": "display_data"
    }
   ],
   "source": [
    "RMS_time = ((yfuture_pred - yfuture[ids])**2).mean(0)**0.5\n",
    "plt.figure(figsize=(5,2))\n",
    "plt.plot(RMS_time)\n",
    "plt.xlabel('n step in the future')\n",
    "plt.ylabel('RMS error')\n",
    "plt.show()"
   ]
  },
  {
   "cell_type": "markdown",
   "id": "2a4cb271-1f7a-4beb-8699-476a31765d98",
   "metadata": {},
   "source": [
    "Here you can see that the encoder predicts the initial state quite accurately and the performance degredes when increasing the number of steps that need to be predicted in the future. Generally you can use this graph also to pick $T$ since it should be somewhere where the n-step-error starts to plateau. "
   ]
  }
 ],
 "metadata": {
  "kernelspec": {
   "display_name": "base",
   "language": "python",
   "name": "python3"
  },
  "language_info": {
   "codemirror_mode": {
    "name": "ipython",
    "version": 3
   },
   "file_extension": ".py",
   "mimetype": "text/x-python",
   "name": "python",
   "nbconvert_exporter": "python",
   "pygments_lexer": "ipython3",
   "version": "3.11.7"
  }
 },
 "nbformat": 4,
 "nbformat_minor": 5
}
