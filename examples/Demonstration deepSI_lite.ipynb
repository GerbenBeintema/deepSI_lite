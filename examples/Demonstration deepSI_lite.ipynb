{
 "cells": [
  {
   "cell_type": "markdown",
   "id": "bcb46811-238a-426a-a41f-0ee0c9922434",
   "metadata": {},
   "source": [
    "# Demonstration notebook `deepSI_lite`"
   ]
  },
  {
   "cell_type": "markdown",
   "id": "56e82acc-057a-4196-a197-56075a9b85bf",
   "metadata": {},
   "source": [
    "## Creating/obtaining train, val and test data in the form `Input_Output_data`"
   ]
  },
  {
   "cell_type": "code",
   "execution_count": 1,
   "id": "a951858e-6605-4f2b-80b8-89e5ebbdf41b",
   "metadata": {},
   "outputs": [
    {
     "name": "stdout",
     "output_type": "stream",
     "text": [
      "train=Input_output_data \"my train set\" u.shape=(7,) y.shape=(7,) sampling_time=1.0\n",
      "test=Input_output_data \"my test set\" u.shape=(7,) y.shape=(7,) sampling_time=1.0\n",
      "train=Input_output_data \"train Cascaded_Tanks\" u.shape=(1024,) y.shape=(1024,) sampling_time=4.0\n",
      "test=Input_output_data \"test Cascaded_Tanks\" u.shape=(1024,) y.shape=(1024,) sampling_time=4.0 state_initialization_window_length=5\n"
     ]
    }
   ],
   "source": [
    "from deepSI_lite import Input_output_data\n",
    "# from nonlinear_benchmarks import Input_output_data #equivilent as above\n",
    "import numpy as np\n",
    "\n",
    "\n",
    "#Example on how to create a Input_output_data\n",
    "train = Input_output_data(u=np.array([1,2,3,4,5,1.,3]),y=np.array([1,-1,-3,10,11,12,13.]), sampling_time=1.0, name='my train set') \n",
    "test = Input_output_data(u=np.array([1,2,3,4,5,1.,3]),y=np.array([1,-1,-3,10,11,12,13.]), sampling_time=1.0, name='my test set') \n",
    "print(f'{train=}')\n",
    "print(f'{test=}')\n",
    "\n",
    "#getting a dataset\n",
    "from nonlinear_benchmarks import Cascaded_Tanks\n",
    "train, test = Cascaded_Tanks()\n",
    "print(f'{train=}')\n",
    "print(f'{test=}')"
   ]
  },
  {
   "cell_type": "markdown",
   "id": "02c75f28-bc11-4df6-8b42-b93cdcb92fc3",
   "metadata": {},
   "source": [
    "## Creating a SUBNET structure \n",
    "\n",
    "Creating a model starts by characterizing by which kind of data it will be applied on. Example: number of inputs (`nu=3` for 3 inputs) or scalar inputs `nu='scalar'`. Futhermore, it is also used to re-scale such to normalize and de-normalize the of `f`, `h` and `encoder` (see `The shap bits of deepSI_lite.ipynb` for details)\n",
    "\n",
    "If you want to use zero-mean, std one normalization you can use `get_nu_ny_and_auto_norm` to characterize what kind of data you are working with.\n",
    "\n",
    "This can be used to initilize the SUBNET method (https://arxiv.org/abs/2012.07697, https://www.sciencedirect.com/science/article/pii/S0005109823003710) as seen below."
   ]
  },
  {
   "cell_type": "code",
   "execution_count": 2,
   "id": "f3416b4f-d5ed-4428-b7c7-12317ea25913",
   "metadata": {},
   "outputs": [
    {
     "name": "stdout",
     "output_type": "stream",
     "text": [
      "model.f(x, u) = tensor([[ 0.1258, -0.0477]], grad_fn=<AddBackward0>)\n"
     ]
    }
   ],
   "source": [
    "from deepSI_lite import SUBNET, get_nu_ny_and_auto_norm\n",
    "import torch\n",
    "\n",
    "nx, nb, na = 2, 5, 5\n",
    "nu, ny, norm = get_nu_ny_and_auto_norm(train)\n",
    "torch.manual_seed(0)\n",
    "model = SUBNET(nu, ny, norm, nx=nx, nb=nb, na=na)\n",
    "# this model has four components:\n",
    "# print(model.f)\n",
    "# print(model.h)\n",
    "# print(model.encoder)\n",
    "\n",
    "r = lambda *x: torch.randn(*x)\n",
    "x = r(1,model.nx)\n",
    "u = r(1)\n",
    "print(f'{model.f(x, u) = }') #the components can be evaluated in desired point"
   ]
  },
  {
   "cell_type": "markdown",
   "id": "addaf4a9-f864-4399-bd6f-8f03de233945",
   "metadata": {},
   "source": [
    "The SUBNET model has three components given by\n",
    "\n",
    "$$\n",
    "x_{k+1} = f_\\theta(x_k, u_k)\n",
    "$$\n",
    "$$\n",
    "\\hat{y}_k = h_\\theta(x_k)\n",
    "$$\n",
    "$$\n",
    "x_0 = \\psi_\\theta(u_\\text{past}, y_\\text{past})\n",
    "$$\n",
    "where $\\psi$ is the encoder that initializes the state. It is also possible to make $h_\\theta(x_k, u_k)$ by setting `feedthrough=True`.\n"
   ]
  },
  {
   "cell_type": "markdown",
   "id": "bdb0caef",
   "metadata": {},
   "source": [
    "## Fitting is a function in deepSI_lite\n",
    "\n",
    "Fitting can be done with the following function:\n",
    "\n",
    "```python\n",
    "def fit(\n",
    "    model: Any,\n",
    "    train: Any,\n",
    "    val: Any,\n",
    "    n_its: int,\n",
    "    T: int = 50,\n",
    "    batch_size: int = 256,\n",
    "    stride: int = 1,\n",
    "    val_freq: int = 250,\n",
    "    optimizer: Any = None,\n",
    "    device: Any = None,\n",
    "    compile_mode: None | str = None,\n",
    "    loss_fun: Any = compute_NMSE\n",
    ") -> Any\n",
    "```\n",
    "\n",
    "where `T` is the trunctation lenght of the subsequences, `val_freq` is the frequency of which the validation loop will run.\n",
    "\n",
    "You can also use `fit_minimal_implementation` which is a much smaller function but is missing some features."
   ]
  },
  {
   "cell_type": "code",
   "execution_count": 3,
   "id": "41be12d3-00a6-4945-b1df-c1a40319108e",
   "metadata": {},
   "outputs": [
    {
     "name": "stdout",
     "output_type": "stream",
     "text": [
      "Number of samples to train on = 866\n"
     ]
    },
    {
     "data": {
      "application/vnd.jupyter.widget-view+json": {
       "model_id": "adacc89844414d3fa7514594d5fbe08e",
       "version_major": 2,
       "version_minor": 0
      },
      "text/plain": [
       "  0%|          | 0/1001 [00:00<?, ?it/s]"
      ]
     },
     "metadata": {},
     "output_type": "display_data"
    },
    {
     "name": "stdout",
     "output_type": "stream",
     "text": [
      "it       0 NRMS loss nan NRMS val 0.85799!! nan samps/sec\n",
      "it     100 NRMS loss 0.71028 NRMS val 0.98154   2375.90 samps/sec\n",
      "it     200 NRMS loss 0.54199 NRMS val 1.16480   2397.30 samps/sec\n",
      "it     300 NRMS loss 0.52809 NRMS val 1.21156   2400.29 samps/sec\n",
      "it     400 NRMS loss 0.52359 NRMS val 1.23460   2397.93 samps/sec\n",
      "it     500 NRMS loss 0.52090 NRMS val 0.82382!! 2382.15 samps/sec\n",
      "it     600 NRMS loss 0.49679 NRMS val 0.81867!! 2369.23 samps/sec\n",
      "it     700 NRMS loss 0.48311 NRMS val 0.85753   2298.35 samps/sec\n",
      "it     800 NRMS loss 0.44600 NRMS val 0.75577!! 2236.32 samps/sec\n",
      "it     900 NRMS loss 0.45688 NRMS val 0.75563!! 2132.13 samps/sec\n",
      "it   1,000 NRMS loss 0.54257 NRMS val 0.75626   2057.71 samps/sec\n"
     ]
    }
   ],
   "source": [
    "from deepSI_lite.fitting import fit, fit_minimal_implementation\n",
    "fit_result = fit(model, train=train[:900], val=train[900:], n_its=1_001, T=30, batch_size=64, val_freq=100)\n"
   ]
  },
  {
   "cell_type": "markdown",
   "id": "bb45269f-47bb-4b82-9911-fa563580bd18",
   "metadata": {},
   "source": [
    "Here `fit_result` contains information about the training. More information will be given on this later."
   ]
  },
  {
   "cell_type": "code",
   "execution_count": 4,
   "id": "63ee94c6-3c2f-47d5-bc11-4b4b753357b4",
   "metadata": {},
   "outputs": [
    {
     "data": {
      "image/png": "[encoded data removed]",
      "text/plain": [
       "<Figure size 640x480 with 1 Axes>"
      ]
     },
     "metadata": {},
     "output_type": "display_data"
    },
    {
     "name": "stdout",
     "output_type": "stream",
     "text": [
      "NRMS=85.26%\n",
      "RMSE=1.7900 V\n"
     ]
    }
   ],
   "source": [
    "from matplotlib import pyplot as plt\n",
    "plt.plot(model.simulate(test).y) #simulate is apply_experiment equivilent\n",
    "plt.plot(test.y)\n",
    "plt.show()\n",
    "from nonlinear_benchmarks.error_metrics import NRMSE, RMSE\n",
    "print(f'NRMS={NRMSE(test.y, model.simulate(test).y):.2%}')\n",
    "print(f'RMSE={RMSE(test.y, model.simulate(test).y):.4f} V')"
   ]
  },
  {
   "cell_type": "markdown",
   "id": "bc551e9c-0501-486d-b8ba-e2d414d62b1e",
   "metadata": {},
   "source": [
    "### Continous time SUBNET\n",
    "\n",
    "`deepSI_lite` also contains options for continuous-time esitmation. For example: https://arxiv.org/abs/2204.09405 is implemented in `models.SUBNET_CT` given by the following structure.\n",
    "\n",
    "$$\n",
    "\\dot{x}(t) = f_\\theta^{\\text{CT}}(x(t), u(t))\n",
    "$$\n",
    "$$\n",
    "\\hat{y}(t) = h_\\theta(x(t))\n",
    "$$\n",
    "$$\n",
    "x(0) = \\psi_\\theta(u_\\text{past}, y_\\text{past})\n",
    "$$\n",
    "where $\\psi$ is the encoder that initializes the state.\n"
   ]
  },
  {
   "cell_type": "code",
   "execution_count": 5,
   "id": "43bd6552-2884-4c99-a307-ca31111f3d8e",
   "metadata": {},
   "outputs": [
    {
     "name": "stdout",
     "output_type": "stream",
     "text": [
      "Number of samples to train on = 961\n"
     ]
    },
    {
     "data": {
      "application/vnd.jupyter.widget-view+json": {
       "model_id": "ec1e195cbcbc4af6b6661ce5a312d6ce",
       "version_major": 2,
       "version_minor": 0
      },
      "text/plain": [
       "  0%|          | 0/1001 [00:00<?, ?it/s]"
      ]
     },
     "metadata": {},
     "output_type": "display_data"
    },
    {
     "name": "stdout",
     "output_type": "stream",
     "text": [
      "it       0 NRMS loss nan NRMS val 1.01385!! nan samps/sec\n",
      "it      20 NRMS loss 0.61773 NRMS val 0.47273!! 2540.15 samps/sec\n",
      "it      40 NRMS loss 0.36855 NRMS val 0.48453   2461.76 samps/sec\n",
      "it      60 NRMS loss 0.33149 NRMS val 1.01785   2387.74 samps/sec\n",
      "it      80 NRMS loss 0.29161 NRMS val 1.17273   2372.20 samps/sec\n",
      "it     100 NRMS loss 0.25882 NRMS val 1.40911   2387.39 samps/sec\n",
      "it     120 NRMS loss 0.24207 NRMS val 1.40752   2402.94 samps/sec\n",
      "it     140 NRMS loss 0.23263 NRMS val 1.48823   2402.56 samps/sec\n",
      "it     160 NRMS loss 0.22584 NRMS val 1.55652   2395.87 samps/sec\n",
      "it     180 NRMS loss 0.21659 NRMS val 1.61769   2347.31 samps/sec\n",
      "it     200 NRMS loss 0.21098 NRMS val 1.65873   2338.41 samps/sec\n",
      "it     220 NRMS loss 0.20767 NRMS val 1.69023   2345.44 samps/sec\n",
      "it     240 NRMS loss 0.20223 NRMS val 1.70139   2327.46 samps/sec\n",
      "it     260 NRMS loss 0.19833 NRMS val 1.71365   2313.09 samps/sec\n",
      "it     280 NRMS loss 0.19340 NRMS val 1.74223   2310.52 samps/sec\n",
      "it     300 NRMS loss 0.18925 NRMS val 1.78838   2320.78 samps/sec\n",
      "it     320 NRMS loss 0.18502 NRMS val 1.86206   2318.07 samps/sec\n",
      "it     340 NRMS loss 0.18443 NRMS val 2.03497   2304.80 samps/sec\n",
      "it     360 NRMS loss 0.17656 NRMS val 2.19731   2307.94 samps/sec\n",
      "it     380 NRMS loss 0.17236 NRMS val 1.61631   2313.25 samps/sec\n",
      "it     400 NRMS loss 0.17056 NRMS val 1.63770   2319.58 samps/sec\n",
      "it     420 NRMS loss 0.16396 NRMS val 1.63485   2315.57 samps/sec\n",
      "it     440 NRMS loss 0.15906 NRMS val 1.56354   2317.19 samps/sec\n",
      "it     460 NRMS loss 0.15535 NRMS val 1.42426   2326.56 samps/sec\n",
      "it     480 NRMS loss 0.15132 NRMS val 1.15216   2327.22 samps/sec\n",
      "it     500 NRMS loss 0.14743 NRMS val 1.00352   2336.10 samps/sec\n",
      "it     520 NRMS loss 0.14503 NRMS val 0.81043   2333.63 samps/sec\n",
      "it     540 NRMS loss 0.14069 NRMS val 0.75080   2339.61 samps/sec\n",
      "it     560 NRMS loss 0.13745 NRMS val 0.66322   2350.44 samps/sec\n",
      "it     580 NRMS loss 0.13465 NRMS val 0.59143   2351.70 samps/sec\n",
      "it     600 NRMS loss 0.13173 NRMS val 0.51077   2352.71 samps/sec\n",
      "it     620 NRMS loss 0.12634 NRMS val 0.47660   2351.48 samps/sec\n",
      "it     640 NRMS loss 0.12542 NRMS val 0.39816!! 2356.36 samps/sec\n",
      "it     660 NRMS loss 0.12161 NRMS val 0.35665!! 2367.43 samps/sec\n",
      "it     680 NRMS loss 0.11970 NRMS val 0.33555!! 2378.43 samps/sec\n",
      "it     700 NRMS loss 0.11813 NRMS val 0.30097!! 2388.54 samps/sec\n",
      "it     720 NRMS loss 0.11383 NRMS val 0.27893!! 2397.83 samps/sec\n",
      "it     740 NRMS loss 0.11148 NRMS val 0.26700!! 2407.55 samps/sec\n",
      "it     760 NRMS loss 0.11099 NRMS val 0.25321!! 2416.39 samps/sec\n",
      "it     780 NRMS loss 0.11092 NRMS val 0.24143!! 2425.26 samps/sec\n",
      "it     800 NRMS loss 0.10881 NRMS val 0.23550!! 2431.41 samps/sec\n",
      "it     820 NRMS loss 0.10462 NRMS val 0.23121!! 2439.27 samps/sec\n",
      "it     840 NRMS loss 0.10260 NRMS val 0.23096!! 2446.06 samps/sec\n",
      "it     860 NRMS loss 0.10213 NRMS val 0.23114   2453.38 samps/sec\n",
      "it     880 NRMS loss 0.10147 NRMS val 0.22413!! 2458.89 samps/sec\n",
      "it     900 NRMS loss 0.10059 NRMS val 0.22017!! 2466.16 samps/sec\n",
      "it     920 NRMS loss 0.10061 NRMS val 0.22278   2471.42 samps/sec\n",
      "it     940 NRMS loss 0.10042 NRMS val 0.21590!! 2477.08 samps/sec\n",
      "it     960 NRMS loss 0.09901 NRMS val 0.21744   2483.10 samps/sec\n",
      "it     980 NRMS loss 0.09759 NRMS val 0.21697   2489.01 samps/sec\n",
      "it   1,000 NRMS loss 0.09764 NRMS val 0.22057   2493.69 samps/sec\n"
     ]
    }
   ],
   "source": [
    "import deepSI_lite as dsi\n",
    "import torch\n",
    "from deepSI_lite.models import SUBNET_CT\n",
    "from deepSI_lite.fitting import fit\n",
    "from nonlinear_benchmarks import Cascaded_Tanks\n",
    "from deepSI_lite.networks import euler_integrator, rk4_integrator, rk45_integrator\n",
    "train, test = Cascaded_Tanks()\n",
    "\n",
    "nx, nb, na = 2, 5, 5\n",
    "nu, ny, norm = dsi.get_nu_ny_and_auto_norm(train)\n",
    "torch.manual_seed(0)\n",
    "model_CT = dsi.SUBNET_CT(nu, ny, norm, nx=2, na=4, nb=4, integrator=euler_integrator)\n",
    "train_dict = dsi.fit(model_CT, train, test, 1001, T=60, val_freq=20)"
   ]
  },
  {
   "cell_type": "markdown",
   "id": "3c9663d7-1f72-4d64-ad57-a30854a2377a",
   "metadata": {},
   "source": [
    "### Changing the intergator\n",
    "\n",
    "You can change out the integrator as desired as"
   ]
  },
  {
   "cell_type": "code",
   "execution_count": 6,
   "id": "0fa87163-7e40-4cfb-9e7b-3a589b00a0f8",
   "metadata": {},
   "outputs": [
    {
     "name": "stdout",
     "output_type": "stream",
     "text": [
      "RMSE=0.4718 V\n"
     ]
    }
   ],
   "source": [
    "from deepSI_lite.networks import euler_integrator, rk4_integrator, rk45_integrator\n",
    "from nonlinear_benchmarks.error_metrics import RMSE\n",
    "\n",
    "#this is a 3 step rk4_integrator\n",
    "integrator = rk4_integrator\n",
    "n_steps = 3\n",
    "model_CT.integrator = lambda f,x,u,dt: integrator(f,x,u,dt, n_steps) \n",
    "print(f'RMSE={RMSE(test.y, model_CT.simulate(test).y):.4f} V')"
   ]
  },
  {
   "cell_type": "markdown",
   "id": "42d7ff99-7e07-40d1-8f86-dda7aa8af9d3",
   "metadata": {},
   "source": [
    "## cutomizable SUBNET\n",
    "\n",
    "If you want to parameterize differently (number of layers and different functions) than you can pass your desired `f`, `h` and `encoder` ($\\psi_\\theta$) into the SUBNET structure class.  \n",
    "\n",
    "Keep in mind that these function need to have the following function characteristics where $b$ is the batch dimension.\n",
    "\n",
    "$$f_\\theta : \\mathbb{R}^{b \\times n_x} \\times \\mathbb{R}^{b \\times n_u} \\rightarrow \\mathbb{R}^{b \\times n_x}$$\n",
    "\n",
    "$$h_\\theta : \\mathbb{R}^{b \\times n_x} \\times \\mathbb{R}^{b \\times n_u} \\rightarrow \\mathbb{R}^{b \\times n_y} \\text{\\ if feedthrough=True else }h_\\theta : \\mathbb{R}^{b \\times n_x} \\rightarrow \\mathbb{R}^{b \\times n_y}$$\n",
    "\n",
    "$$\\psi_\\theta : \\mathbb{R}^{b \\times n_b \\times n_u} \\times \\mathbb{R}^{b \\times n_a \\times n_y} \\rightarrow \\mathbb{R}^{b \\times n_x}$$\n",
    "\n",
    "Or in the case that the input and output are scalars (`nu = 'scalar'` and `ny = 'scalar'`)\n",
    "\n",
    "$$f_\\theta : \\mathbb{R}^{b \\times n_x} \\times \\mathbb{R}^{b} \\rightarrow \\mathbb{R}^{b \\times n_x}$$\n",
    "\n",
    "$$h_\\theta : \\mathbb{R}^{b \\times n_x} \\times \\mathbb{R}^{b} \\rightarrow \\mathbb{R}^{b} \\text{\\ if feedthrough=True else }h_\\theta : \\mathbb{R}^{b \\times n_x} \\rightarrow \\mathbb{R}^{b}$$\n",
    "\n",
    "$$\\psi_\\theta : \\mathbb{R}^{b \\times n_b} \\times \\mathbb{R}^{b \\times n_a} \\rightarrow \\mathbb{R}^{b \\times n_x}$$\n",
    "\n",
    "If a simple multi layer perceptron or feed forward neural network (with linear residual layer) is desired you can use `MLP_res_net`.\n"
   ]
  },
  {
   "cell_type": "code",
   "execution_count": 7,
   "id": "1919a9b6-0052-428f-a420-2c45c8036dc8",
   "metadata": {},
   "outputs": [
    {
     "name": "stdout",
     "output_type": "stream",
     "text": [
      "IO_normalization_f(\n",
      "  (fun): MLP_res_net(\n",
      "    (net_res): Linear(in_features=3, out_features=2, bias=True)\n",
      "    (net_nonlin): Sequential(\n",
      "      (0): Linear(in_features=3, out_features=64, bias=True)\n",
      "      (1): Sigmoid()\n",
      "      (2): Linear(in_features=64, out_features=64, bias=True)\n",
      "      (3): Sigmoid()\n",
      "      (4): Linear(in_features=64, out_features=2, bias=True)\n",
      "    )\n",
      "  )\n",
      ")\n",
      "IO_normalization_h(\n",
      "  (fun): MLP_res_net(\n",
      "    (net_res): Linear(in_features=2, out_features=1, bias=True)\n",
      "    (net_nonlin): Sequential(\n",
      "      (0): Linear(in_features=2, out_features=10, bias=True)\n",
      "      (1): Tanh()\n",
      "      (2): Linear(in_features=10, out_features=10, bias=True)\n",
      "      (3): Tanh()\n",
      "      (4): Linear(in_features=10, out_features=10, bias=True)\n",
      "      (5): Tanh()\n",
      "      (6): Linear(in_features=10, out_features=10, bias=True)\n",
      "      (7): Tanh()\n",
      "      (8): Linear(in_features=10, out_features=10, bias=True)\n",
      "      (9): Tanh()\n",
      "      (10): Linear(in_features=10, out_features=1, bias=True)\n",
      "    )\n",
      "  )\n",
      ")\n",
      "IO_normalization_encoder(\n",
      "  (fun): MLP_res_net(\n",
      "    (net_res): Linear(in_features=10, out_features=2, bias=True)\n",
      "    (net_nonlin): Sequential(\n",
      "      (0): Linear(in_features=10, out_features=15, bias=True)\n",
      "      (1): Tanh()\n",
      "      (2): Linear(in_features=15, out_features=2, bias=True)\n",
      "    )\n",
      "  )\n",
      ")\n",
      "SUBNET(\n",
      "  (f): IO_normalization_f(\n",
      "    (fun): MLP_res_net(\n",
      "      (net_res): Linear(in_features=3, out_features=2, bias=True)\n",
      "      (net_nonlin): Sequential(\n",
      "        (0): Linear(in_features=3, out_features=64, bias=True)\n",
      "        (1): Sigmoid()\n",
      "        (2): Linear(in_features=64, out_features=64, bias=True)\n",
      "        (3): Sigmoid()\n",
      "        (4): Linear(in_features=64, out_features=2, bias=True)\n",
      "      )\n",
      "    )\n",
      "  )\n",
      "  (h): IO_normalization_h(\n",
      "    (fun): MLP_res_net(\n",
      "      (net_res): Linear(in_features=2, out_features=1, bias=True)\n",
      "      (net_nonlin): Sequential(\n",
      "        (0): Linear(in_features=2, out_features=10, bias=True)\n",
      "        (1): Tanh()\n",
      "        (2): Linear(in_features=10, out_features=10, bias=True)\n",
      "        (3): Tanh()\n",
      "        (4): Linear(in_features=10, out_features=10, bias=True)\n",
      "        (5): Tanh()\n",
      "        (6): Linear(in_features=10, out_features=10, bias=True)\n",
      "        (7): Tanh()\n",
      "        (8): Linear(in_features=10, out_features=10, bias=True)\n",
      "        (9): Tanh()\n",
      "        (10): Linear(in_features=10, out_features=1, bias=True)\n",
      "      )\n",
      "    )\n",
      "  )\n",
      "  (encoder): IO_normalization_encoder(\n",
      "    (fun): MLP_res_net(\n",
      "      (net_res): Linear(in_features=10, out_features=2, bias=True)\n",
      "      (net_nonlin): Sequential(\n",
      "        (0): Linear(in_features=10, out_features=15, bias=True)\n",
      "        (1): Tanh()\n",
      "        (2): Linear(in_features=15, out_features=2, bias=True)\n",
      "      )\n",
      "    )\n",
      "  )\n",
      ")\n"
     ]
    }
   ],
   "source": [
    "from deepSI_lite.networks import MLP_res_net\n",
    "from torch import nn\n",
    "from deepSI_lite.models import SUBNET\n",
    "from deepSI_lite import get_nu_ny_and_auto_norm\n",
    "from nonlinear_benchmarks import Cascaded_Tanks\n",
    "train, test = Cascaded_Tanks()\n",
    "nx, nb, na = 2, 5, 5\n",
    "nu, ny, norm = get_nu_ny_and_auto_norm(train)\n",
    "feedthrough = False\n",
    "\n",
    "f =       norm.f(       MLP_res_net(input_size = [nx , nu],                       output_size = nx, activation=nn.Sigmoid))\n",
    "h =       norm.h(       MLP_res_net(input_size = [nx, nu] if feedthrough else nx, output_size = ny, n_hidden_layers=5, n_hidden_nodes=10))\n",
    "encoder = norm.encoder( MLP_res_net(input_size = [(nb,nu) , (na,ny)],             output_size = nx, n_hidden_layers=1, n_hidden_nodes=15))\n",
    "\n",
    "print(f) #has f(x,u) -> x with batch\n",
    "print(h) #has h(x,u) -> y with batch if feedthrough = True else h(x) -> y\n",
    "print(encoder) #has encoder(upast, ypast) -> x\n",
    "\n",
    "print(SUBNET(nu, ny, norm, nx=nx, nb=nb, na=na, f=f, h=h, encoder=encoder))"
   ]
  },
  {
   "cell_type": "markdown",
   "id": "80378da0-9035-40d9-95ce-84d9ffe0db68",
   "metadata": {},
   "source": [
    "## Creating you own SUBNET structure\n",
    "\n",
    "A limitation in the `SUBNET` class is that the `f`, `h` and the `encoder` cannot share any parameters. If this is not the case than you can still create you own cutom SUBNET structure.\n",
    "\n",
    "This is done by inhereting `Custom_SUBNET` and defining a forward method with the characteristic:\n",
    "* `forward(upast, ypast, ufuture) = yfuture_sim`\n",
    "  * `upast.shape = (batch_dim, nb, nu)`,\n",
    "  * `ypast.shape = (batch_dim, na, ny)`,\n",
    "  * `ufuture.shape = (batch_dim, T, nu)`,\n",
    "  * `yfuture_sim.shape = (batch_dim, T, ny)`\n",
    "\n",
    "(and removing `nu` and `ny` from these shapes if they are `'scalar'`)\n",
    "\n",
    "Below you can find an example for a LPV structure, see: https://arxiv.org/abs/2204.04060\n",
    "\n",
    "This structure does not accept `nu='scalar'` or `ny = 'scalar'` and thus \n"
   ]
  },
  {
   "cell_type": "code",
   "execution_count": 8,
   "id": "fc270508-30a7-4955-ab1c-b7709293956b",
   "metadata": {},
   "outputs": [
    {
     "data": {
      "text/plain": [
       "SUBNET_LPV(\n",
       "  (A): Bilinear()\n",
       "  (B): Bilinear()\n",
       "  (C): Bilinear()\n",
       "  (D): Bilinear()\n",
       "  (encoder): IO_normalization_encoder(\n",
       "    (fun): MLP_res_net(\n",
       "      (net_res): Linear(in_features=10, out_features=2, bias=True)\n",
       "      (net_nonlin): Sequential(\n",
       "        (0): Linear(in_features=10, out_features=64, bias=True)\n",
       "        (1): Tanh()\n",
       "        (2): Linear(in_features=64, out_features=64, bias=True)\n",
       "        (3): Tanh()\n",
       "        (4): Linear(in_features=64, out_features=2, bias=True)\n",
       "      )\n",
       "    )\n",
       "  )\n",
       "  (scheduling_net): IO_normalization_f(\n",
       "    (fun): MLP_res_net(\n",
       "      (net_res): Linear(in_features=3, out_features=2, bias=True)\n",
       "      (net_nonlin): Sequential(\n",
       "        (0): Linear(in_features=3, out_features=64, bias=True)\n",
       "        (1): Tanh()\n",
       "        (2): Linear(in_features=64, out_features=64, bias=True)\n",
       "        (3): Tanh()\n",
       "        (4): Linear(in_features=64, out_features=2, bias=True)\n",
       "      )\n",
       "    )\n",
       "  )\n",
       ")"
      ]
     },
     "execution_count": 8,
     "metadata": {},
     "output_type": "execute_result"
    }
   ],
   "source": [
    "from deepSI_lite.models import Custom_SUBNET, validate_custom_SUBNET_structure\n",
    "from deepSI_lite import Norm, get_nu_ny_and_auto_norm\n",
    "from deepSI_lite.networks import Bilinear, MLP_res_net\n",
    "import torch\n",
    "import numpy as np\n",
    "class SUBNET_LPV(Custom_SUBNET):\n",
    "    def __init__(self, nu, ny, norm:Norm, nx, n_schedual, na, nb, scheduling_net=None, A=None, B=None, C=None, D=None, encoder=None, feedthrough=True):\n",
    "        if np.any((2*abs(norm.ymean)>norm.ystd).numpy()) or np.any((2*abs(norm.umean)>norm.ustd).numpy()):\n",
    "            from warnings import warn\n",
    "            warn('SUBNET_LPV assumes that the data is approximatly zero mean. Not doing so can lead to unintended behaviour.')\n",
    "        assert isinstance(nu, int) and isinstance(ny, int) and isinstance(n_schedual, int) and feedthrough, 'SUBNET_LPV requires the input, output schedualing parameter to be vectors and feedthrough to be present'\n",
    "        super().__init__()\n",
    "        self.nu, self.ny, self.norm, self.nx, self.n_schedual, self.na, self.nb, self.feedthrough = nu, ny, norm, nx, n_schedual, na, nb, feedthrough\n",
    "        self.A = A if A is not None else Bilinear(n_in=nx, n_out=nx, n_schedual=n_schedual)\n",
    "        self.B = B if B is not None else Bilinear(n_in=nu, n_out=nx, n_schedual=n_schedual, std_input=norm.ustd)\n",
    "        self.C = C if C is not None else Bilinear(n_in=nx, n_out=ny, n_schedual=n_schedual, std_output=norm.ystd)\n",
    "        self.D = D if D is not None else Bilinear(n_in=nu, n_out=ny, n_schedual=n_schedual, std_output=norm.ystd, std_input=norm.ustd)\n",
    "        self.encoder = encoder if encoder is not None else norm.encoder(MLP_res_net(input_size = [(nb,nu) , (na,ny)], output_size = nx))\n",
    "        self.scheduling_net = scheduling_net if scheduling_net is not None else norm.f(MLP_res_net(input_size = [nx , nu], output_size = n_schedual))\n",
    "        validate_custom_SUBNET_structure(self) #does checks if forward is working as intended\n",
    "    \n",
    "    def forward(self, upast: torch.Tensor, ypast: torch.Tensor, ufuture: torch.Tensor, yfuture: torch.Tensor=None):\n",
    "        mv = lambda A, x: torch.bmm(A, x[:, :, None])[:,:,0] #batched matrix vector multiply\n",
    "        yfuture_sim = []\n",
    "        x = self.encoder(upast, ypast)\n",
    "        for u in ufuture.swapaxes(0,1): #iterate over time\n",
    "            p = self.scheduling_net(x, u)\n",
    "            A, B, C, D = self.A(p), self.B(p), self.C(p), self.D(p)\n",
    "            y = mv(C, x) + mv(D, u)\n",
    "            x = mv(A, x) + mv(B, u)\n",
    "            yfuture_sim.append(y)\n",
    "        return torch.stack(yfuture_sim, dim=1)\n",
    "\n",
    "from nonlinear_benchmarks import Silverbox\n",
    "train, test = Silverbox(atleast_2d=True)\n",
    "nx, nb, na = 2, 5, 5\n",
    "nu, ny, norm = get_nu_ny_and_auto_norm(train)\n",
    "\n",
    "SUBNET_LPV(nu, ny, norm, nx, n_schedual=2, na=na, nb=nb)"
   ]
  },
  {
   "cell_type": "markdown",
   "id": "57985b21-cc7d-471a-8e11-b49ecc5e7a56",
   "metadata": {},
   "source": [
    "## Exporting functions\n",
    "\n",
    "This can for since be loaded in https://netron.app/ to see the computation graph or with MATLAB or even CasaDI with some effort."
   ]
  },
  {
   "cell_type": "code",
   "execution_count": 9,
   "id": "a301ea5f-a861-4e6e-9b04-531bf4782e4c",
   "metadata": {},
   "outputs": [],
   "source": [
    "import torch\n",
    "from torch import nn\n",
    "class Fun(nn.Module):\n",
    "    def __init__(self, f, model):\n",
    "        super().__init__()\n",
    "        self.f = f\n",
    "        self.model = model\n",
    "    def forward(self, *args, **kwargs):\n",
    "        with torch.no_grad():\n",
    "            return self.f(*args, **kwargs)\n",
    "\n",
    "f = Fun(model.f, model)\n",
    "x = torch.zeros((1, nx))\n",
    "u = torch.zeros((1,1))[0] if model.nu == 'scalar' else torch.zeros((1,model.nu))\n",
    "\n",
    "torch.onnx.export(\n",
    "    f,                  # the model (in this case Fun class wrapping your model)\n",
    "    (x, u),             # input tensors (in this case x and u)\n",
    "    \"f.onnx\",       # file name or file path where the model will be saved\n",
    "    opset_version=12    # specify the ONNX opset version\n",
    ")\n",
    "\n"
   ]
  },
  {
   "cell_type": "markdown",
   "id": "c2d8c67a-76d5-4b8a-a01a-1e281a248e60",
   "metadata": {},
   "source": [
    "## Reproducability\n",
    "\n",
    "If you set a manual seed before creating the model than the results is always the same. "
   ]
  },
  {
   "cell_type": "code",
   "execution_count": 10,
   "id": "57f19cd0-2605-4bc5-b0ce-27b23f1eb1cb",
   "metadata": {},
   "outputs": [
    {
     "name": "stdout",
     "output_type": "stream",
     "text": [
      "Number of samples to train on = 61739\n"
     ]
    },
    {
     "data": {
      "application/vnd.jupyter.widget-view+json": {
       "model_id": "d74c4f15c1a24f5d9474a6846118c527",
       "version_major": 2,
       "version_minor": 0
      },
      "text/plain": [
       "  0%|          | 0/100 [00:00<?, ?it/s]"
      ]
     },
     "metadata": {},
     "output_type": "display_data"
    },
    {
     "name": "stdout",
     "output_type": "stream",
     "text": [
      "it       0 NRMS loss nan NRMS val 0.99626!! nan samps/sec\n",
      "it      10 NRMS loss 0.96911 NRMS val 0.91461!! 3760.21 samps/sec\n",
      "it      20 NRMS loss 0.88075 NRMS val 0.87685!! 3653.96 samps/sec\n",
      "it      30 NRMS loss 0.84420 NRMS val 0.84332!! 3606.04 samps/sec\n",
      "it      40 NRMS loss 0.75531 NRMS val 0.58872!! 3572.56 samps/sec\n",
      "it      50 NRMS loss 0.51822 NRMS val 0.54371!! 3473.37 samps/sec\n",
      "it      60 NRMS loss 0.45830 NRMS val 0.49202!! 3351.09 samps/sec\n",
      "it      70 NRMS loss 0.40896 NRMS val 0.41274!! 3251.64 samps/sec\n",
      "it      80 NRMS loss 0.36910 NRMS val 0.36029!! 3136.77 samps/sec\n",
      "it      90 NRMS loss 0.32021 NRMS val 0.31022!! 3091.40 samps/sec\n",
      "Number of samples to train on = 61739\n"
     ]
    },
    {
     "data": {
      "application/vnd.jupyter.widget-view+json": {
       "model_id": "6c3de98673bc41078f8fc7e656769e9a",
       "version_major": 2,
       "version_minor": 0
      },
      "text/plain": [
       "  0%|          | 0/100 [00:00<?, ?it/s]"
      ]
     },
     "metadata": {},
     "output_type": "display_data"
    },
    {
     "name": "stdout",
     "output_type": "stream",
     "text": [
      "it       0 NRMS loss nan NRMS val 0.99626!! nan samps/sec\n",
      "it      10 NRMS loss 0.96911 NRMS val 0.91461!! 2925.93 samps/sec\n",
      "it      20 NRMS loss 0.88075 NRMS val 0.87685!! 2915.90 samps/sec\n",
      "it      30 NRMS loss 0.84420 NRMS val 0.84332!! 2839.59 samps/sec\n",
      "it      40 NRMS loss 0.75531 NRMS val 0.58872!! 2925.99 samps/sec\n",
      "it      50 NRMS loss 0.51822 NRMS val 0.54371!! 2889.10 samps/sec\n",
      "it      60 NRMS loss 0.45830 NRMS val 0.49202!! 2890.51 samps/sec\n",
      "it      70 NRMS loss 0.40896 NRMS val 0.41274!! 2874.88 samps/sec\n",
      "it      80 NRMS loss 0.36910 NRMS val 0.36029!! 2916.87 samps/sec\n",
      "it      90 NRMS loss 0.32021 NRMS val 0.31022!! 2898.76 samps/sec\n"
     ]
    }
   ],
   "source": [
    "from deepSI_lite.models import SUBNET_LPV, SUBNET, SUBNET_CT\n",
    "from deepSI_lite.normalization import Norm, get_nu_ny_and_auto_norm\n",
    "from deepSI_lite.fitting import fit\n",
    "from nonlinear_benchmarks import Silverbox\n",
    "import numpy as np\n",
    "import torch\n",
    "\n",
    "train_val, tests = Silverbox()\n",
    "test = tests[0]\n",
    "s = int(0.95*len(train_val))\n",
    "train, val = train_val[:s], train_val[s:]\n",
    "nu, ny, norm = get_nu_ny_and_auto_norm(train_val)\n",
    "\n",
    "for _ in range(2):\n",
    "    torch.manual_seed(0)\n",
    "    subnet = SUBNET(nu, ny, norm, nx=4, nb=20, na=20)\n",
    "    fit_res_subnet = fit(subnet, train, val, n_its=100, val_freq=10)\n"
   ]
  },
  {
   "cell_type": "markdown",
   "id": "34e44ddb-2419-40d3-adda-7969af433b6a",
   "metadata": {},
   "source": [
    "## Regularization and custom cost functions\n",
    "\n",
    "In `fit` you can give custom cost function like by giving an argument for `loss_fun`."
   ]
  },
  {
   "cell_type": "code",
   "execution_count": 11,
   "id": "0721ca49-a48b-4092-be7b-62bf95314776",
   "metadata": {},
   "outputs": [
    {
     "name": "stdout",
     "output_type": "stream",
     "text": [
      "Number of samples to train on = 980\n"
     ]
    },
    {
     "data": {
      "application/vnd.jupyter.widget-view+json": {
       "model_id": "c455aa8dc60b4280be8a24c1fde7a551",
       "version_major": 2,
       "version_minor": 0
      },
      "text/plain": [
       "  0%|          | 0/101 [00:00<?, ?it/s]"
      ]
     },
     "metadata": {},
     "output_type": "display_data"
    },
    {
     "name": "stdout",
     "output_type": "stream",
     "text": [
      "it       0 NRMS loss nan NRMS val 1.04559!! nan samps/sec\n",
      "it     100 NRMS loss 0.81547 NRMS val 0.70507!! 931.60 samps/sec\n"
     ]
    }
   ],
   "source": [
    "from deepSI_lite import SUBNET, get_nu_ny_and_auto_norm\n",
    "from deepSI_lite.fitting import compute_NMSE\n",
    "import torch\n",
    "from nonlinear_benchmarks import Cascaded_Tanks\n",
    "import numpy as np\n",
    "train, test = Cascaded_Tanks()\n",
    "\n",
    "nx, nb, na = 2, 5, 5\n",
    "nu, ny, norm = get_nu_ny_and_auto_norm(train)\n",
    "model = SUBNET(nu, ny, norm, nx=nx, nb=nb, na=na)\n",
    "\n",
    "def ridge_L2_regularization(model, upast, ypast, ufuture, yfuture, kappa=1):\n",
    "    yfuture_model = model(upast, ypast, ufuture)\n",
    "    amp = torch.stack([(p**2).sum() for p in model.parameters()])/torch.as_tensor([p.numel() for p in model.parameters()])\n",
    "    return ((yfuture-yfuture_model)**2/model.norm.ystd**2).mean() + torch.mean(amp)*kappa\n",
    "\n",
    "from deepSI_lite import fit\n",
    "kappa = 0\n",
    "#create a partially filled function\n",
    "my_loss = lambda *args: ridge_L2_regularization(*args, kappa=kappa)\n",
    "train_dict = fit(model, train, test, n_its=101, T=40, batch_size=64, val_freq=100, loss_fun=my_loss, val_fun=compute_NMSE)"
   ]
  },
  {
   "cell_type": "markdown",
   "id": "b68aa1d3-166a-41bd-8d11-400495979e0a",
   "metadata": {},
   "source": [
    "## Training/fitting"
   ]
  },
  {
   "cell_type": "code",
   "execution_count": 12,
   "id": "57f5d31b-9c30-4add-94eb-55f3e829583c",
   "metadata": {},
   "outputs": [
    {
     "name": "stdout",
     "output_type": "stream",
     "text": [
      "Number of samples to train on = 61739\n"
     ]
    },
    {
     "data": {
      "application/vnd.jupyter.widget-view+json": {
       "model_id": "4075632e8b1b49e1a6e41162df4cd84d",
       "version_major": 2,
       "version_minor": 0
      },
      "text/plain": [
       "  0%|          | 0/201 [00:00<?, ?it/s]"
      ]
     },
     "metadata": {},
     "output_type": "display_data"
    },
    {
     "name": "stdout",
     "output_type": "stream",
     "text": [
      "it       0 NRMS loss nan NRMS val 0.94222!! nan samps/sec\n",
      "it      10 NRMS loss 0.83779 NRMS val 0.71031!! 3240.97 samps/sec\n",
      "it      20 NRMS loss 0.53195 NRMS val 0.37894!! 3157.13 samps/sec\n",
      "it      30 NRMS loss 0.35080 NRMS val 0.31227!! 2786.36 samps/sec\n",
      "it      40 NRMS loss 0.27582 NRMS val 0.28759!! 2652.22 samps/sec\n",
      "it      50 NRMS loss 0.25068 NRMS val 0.25593!! 2545.93 samps/sec\n",
      "it      60 NRMS loss 0.22850 NRMS val 0.23592!! 2676.62 samps/sec\n",
      "it      70 NRMS loss 0.20390 NRMS val 0.21209!! 2779.96 samps/sec\n",
      "it      80 NRMS loss 0.18199 NRMS val 0.18607!! 2866.99 samps/sec\n",
      "it      90 NRMS loss 0.16168 NRMS val 0.15986!! 2939.96 samps/sec\n",
      "it     100 NRMS loss 0.13624 NRMS val 0.13161!! 3004.65 samps/sec\n",
      "it     110 NRMS loss 0.11548 NRMS val 0.11078!! 3049.02 samps/sec\n",
      "it     120 NRMS loss 0.09990 NRMS val 0.09464!! 3093.83 samps/sec\n",
      "it     130 NRMS loss 0.08603 NRMS val 0.08397!! 3128.13 samps/sec\n",
      "it     140 NRMS loss 0.08553 NRMS val 0.07959!! 3162.13 samps/sec\n",
      "it     150 NRMS loss 0.07856 NRMS val 0.07453!! 3194.35 samps/sec\n",
      "it     160 NRMS loss 0.07228 NRMS val 0.07198!! 3223.37 samps/sec\n",
      "it     170 NRMS loss 0.06824 NRMS val 0.07117!! 3250.76 samps/sec\n",
      "it     180 NRMS loss 0.07021 NRMS val 0.08080   3272.87 samps/sec\n",
      "it     190 NRMS loss 0.06583 NRMS val 0.07901   3297.11 samps/sec\n",
      "it     200 NRMS loss 0.06688 NRMS val 0.08364   3316.46 samps/sec\n"
     ]
    }
   ],
   "source": [
    "import deepSI_lite as dsi\n",
    "import nonlinear_benchmarks as nlb\n",
    "from matplotlib import pyplot as plt\n",
    "\n",
    "train_val, test = nlb.Silverbox()\n",
    "nu, ny, norm = dsi.get_nu_ny_and_auto_norm(train_val)\n",
    "train_val, test = norm.transform(train_val), norm.transform(test)\n",
    "s = int(len(train_val)*0.95)\n",
    "train, val = train_val[:s], train_val[s:]\n",
    "model = dsi.models.SUBNET(nu, ny, dsi.Norm(0, 1, 0, 1), nx=4)\n",
    "train_dict = dsi.fit(model, train, val, n_its=201, val_freq=10)\n"
   ]
  },
  {
   "cell_type": "markdown",
   "id": "70be2b71-6e96-45cf-98f1-a74164c5a160",
   "metadata": {},
   "source": [
    "The training dict contains a lot of information as seen below:"
   ]
  },
  {
   "cell_type": "code",
   "execution_count": 13,
   "id": "96590657-6295-4cd7-bf13-fb925ecdbe05",
   "metadata": {},
   "outputs": [
    {
     "data": {
      "text/plain": [
       "dict_keys(['best_model', 'best_optimizer_state', 'last_model', 'last_optimizer_state', 'NRMS_train', 'NRMS_val', 'samples/sec', 'val_freq', 'batch_size', 'it_counter'])"
      ]
     },
     "execution_count": 13,
     "metadata": {},
     "output_type": "execute_result"
    }
   ],
   "source": [
    "train_dict.keys()\n",
    "# - 'best_model': The best model (with the lowest validation loss).\n",
    "# - 'best_optimizer_state': Optimizer state when the best model was found.\n",
    "# - 'last_model': The model at the end of training.\n",
    "# - 'last_optimizer_state': The optimizer state at the end of training.\n",
    "# - 'NRMS_train': Training loss history (normalized root mean square error).\n",
    "# - 'NRMS_val': Validation loss history (normalized root mean square error).\n",
    "# - 'samples/sec': Number of data samples processed per second.\n",
    "# - 'val_freq': Validation frequency.\n",
    "# - 'batch_size': Batch size used during training.\n",
    "# - 'it_counter': List of iteration counts corresponding to each validation point."
   ]
  },
  {
   "cell_type": "markdown",
   "id": "294811fd-8496-460b-b9ab-1fa62c332e1f",
   "metadata": {},
   "source": [
    "### Trainig curve plots"
   ]
  },
  {
   "cell_type": "code",
   "execution_count": 14,
   "id": "64fdc636-5ad4-4398-ba82-40334d81b0ef",
   "metadata": {},
   "outputs": [
    {
     "data": {
      "image/png": "[encoded data removed]",
      "text/plain": [
       "<Figure size 400x150 with 1 Axes>"
      ]
     },
     "metadata": {},
     "output_type": "display_data"
    }
   ],
   "source": [
    "import numpy as np\n",
    "plt.figure(figsize=(4,1.5))\n",
    "plt.plot(train_dict['it_counter'], train_dict['NRMS_val'])\n",
    "plt.plot(train_dict['it_counter'], train_dict['NRMS_train'])\n",
    "plt.legend(['NRMS validation', 'NRMS train'])\n",
    "plt.grid(); plt.xlabel('it'); plt.ylabel('validation\\nmeasure')\n",
    "plt.show()"
   ]
  },
  {
   "cell_type": "markdown",
   "id": "700858a9-93f6-424c-b0de-e5b539ef8b4f",
   "metadata": {},
   "source": [
    "## Restarting training"
   ]
  },
  {
   "cell_type": "markdown",
   "id": "bca4d9e4-f380-4fad-b9b0-f1f44f815df1",
   "metadata": {},
   "source": [
    "If you want to restart training with the same optimizer you can use:"
   ]
  },
  {
   "cell_type": "code",
   "execution_count": 15,
   "id": "b6a38035-5322-4512-bfc4-e07282f49ce5",
   "metadata": {},
   "outputs": [
    {
     "name": "stdout",
     "output_type": "stream",
     "text": [
      "Number of samples to train on = 61739\n"
     ]
    },
    {
     "data": {
      "application/vnd.jupyter.widget-view+json": {
       "model_id": "049a52e0ae074905bab487edd8d2bf0c",
       "version_major": 2,
       "version_minor": 0
      },
      "text/plain": [
       "  0%|          | 0/201 [00:00<?, ?it/s]"
      ]
     },
     "metadata": {},
     "output_type": "display_data"
    },
    {
     "name": "stdout",
     "output_type": "stream",
     "text": [
      "it       0 NRMS loss nan NRMS val 0.06717!! nan samps/sec\n",
      "it      10 NRMS loss 0.06928 NRMS val 0.10416   3613.17 samps/sec\n",
      "it      20 NRMS loss 0.08278 NRMS val 0.09314   3581.78 samps/sec\n",
      "it      30 NRMS loss 0.07425 NRMS val 0.06692!! 3657.46 samps/sec\n",
      "it      40 NRMS loss 0.06091 NRMS val 0.05533!! 3637.38 samps/sec\n",
      "it      50 NRMS loss 0.06163 NRMS val 0.08280   3630.24 samps/sec\n",
      "it      60 NRMS loss 0.06084 NRMS val 0.05746   3643.04 samps/sec\n",
      "it      70 NRMS loss 0.05917 NRMS val 0.05523!! 3650.76 samps/sec\n",
      "it      80 NRMS loss 0.05511 NRMS val 0.06172   3655.92 samps/sec\n",
      "it      90 NRMS loss 0.05593 NRMS val 0.05128!! 3661.73 samps/sec\n",
      "it     100 NRMS loss 0.06536 NRMS val 0.11852   3670.61 samps/sec\n",
      "it     110 NRMS loss 0.06302 NRMS val 0.05014!! 3665.50 samps/sec\n",
      "it     120 NRMS loss 0.05203 NRMS val 0.05096   3660.10 samps/sec\n",
      "it     130 NRMS loss 0.04926 NRMS val 0.05559   3664.06 samps/sec\n",
      "it     140 NRMS loss 0.05323 NRMS val 0.06890   3558.49 samps/sec\n",
      "it     150 NRMS loss 0.05185 NRMS val 0.06291   3523.65 samps/sec\n",
      "it     160 NRMS loss 0.05316 NRMS val 0.05860   3491.35 samps/sec\n",
      "it     170 NRMS loss 0.04853 NRMS val 0.05156   3485.61 samps/sec\n",
      "it     180 NRMS loss 0.05845 NRMS val 0.04722!! 3492.02 samps/sec\n",
      "it     190 NRMS loss 0.08121 NRMS val 0.17444   3495.52 samps/sec\n",
      "it     200 NRMS loss 0.07852 NRMS val 0.09505   3507.06 samps/sec\n"
     ]
    }
   ],
   "source": [
    "import torch\n",
    "model = train_dict['last_model']\n",
    "\n",
    "optimizer = torch.optim.Adam(model.parameters())\n",
    "optimizer.load_state_dict(train_dict['last_optimizer_state'])\n",
    "\n",
    "train_dict = dsi.fit(model, train, val, n_its=201, val_freq=10, optimizer=optimizer)\n"
   ]
  },
  {
   "cell_type": "markdown",
   "id": "d88f1325-88e0-4432-aece-532fc798e0b7",
   "metadata": {},
   "source": [
    "### Recovering from a crash\n",
    "\n",
    "After a crash (e.g. a forced windows update) you can recover the training progress with the following steps:"
   ]
  },
  {
   "cell_type": "code",
   "execution_count": 16,
   "id": "ef7df4ad-9e25-4155-b123-76b88f5b18d9",
   "metadata": {},
   "outputs": [
    {
     "name": "stdout",
     "output_type": "stream",
     "text": [
      "Training results saving directory: C:\\Users\\s143190\\AppData\\Local\\deepSI-checkpoints/\n"
     ]
    }
   ],
   "source": [
    "import deepSI_lite as dsi\n",
    "folder = dsi.fitting.get_checkpoint_dir()\n",
    "print('Training results saving directory:', folder) #you can manually go here\n",
    "import cloudpickle\n",
    "train_dict = cloudpickle.load(open(folder + 'SUBNET-mmBCKg.pth','rb'))\n",
    "# train_dict.keys() contains all the info \n",
    "model = train_dict['best_model']\n"
   ]
  },
  {
   "cell_type": "markdown",
   "id": "3adc6e0e-9124-4249-ab54-8c7f82dfa5ce",
   "metadata": {},
   "source": [
    "## n-step errors"
   ]
  },
  {
   "cell_type": "code",
   "execution_count": 17,
   "id": "753363ef-50c1-4206-90f8-7fafe08e8987",
   "metadata": {},
   "outputs": [
    {
     "name": "stdout",
     "output_type": "stream",
     "text": [
      "Number of samples to train on = 61739\n"
     ]
    },
    {
     "data": {
      "application/vnd.jupyter.widget-view+json": {
       "model_id": "42ddc13ae9464048a00b1b5ddb297d43",
       "version_major": 2,
       "version_minor": 0
      },
      "text/plain": [
       "  0%|          | 0/1001 [00:00<?, ?it/s]"
      ]
     },
     "metadata": {},
     "output_type": "display_data"
    },
    {
     "name": "stdout",
     "output_type": "stream",
     "text": [
      "it       0 NRMS loss nan NRMS val 1.03830!! nan samps/sec\n",
      "it     100 NRMS loss 0.51301 NRMS val 0.22233!! 3722.45 samps/sec\n",
      "it     200 NRMS loss 0.13273 NRMS val 0.10766!! 3718.70 samps/sec\n",
      "it     300 NRMS loss 0.08181 NRMS val 0.10403!! 3452.77 samps/sec\n",
      "it     400 NRMS loss 0.06251 NRMS val 0.05875!! 3459.69 samps/sec\n",
      "it     500 NRMS loss 0.06062 NRMS val 0.07423   3515.20 samps/sec\n",
      "it     600 NRMS loss 0.07960 NRMS val 0.10815   3547.76 samps/sec\n",
      "it     700 NRMS loss 0.04887 NRMS val 0.04599!! 3534.32 samps/sec\n",
      "it     800 NRMS loss 0.04277 NRMS val 0.05058   3555.40 samps/sec\n",
      "it     900 NRMS loss 0.05535 NRMS val 0.07718   3570.94 samps/sec\n",
      "it   1,000 NRMS loss 0.04376 NRMS val 0.04581!! 3576.08 samps/sec\n"
     ]
    }
   ],
   "source": [
    "import deepSI_lite as dsi\n",
    "import nonlinear_benchmarks as nlb\n",
    "from matplotlib import pyplot as plt\n",
    "\n",
    "train_val, test = nlb.Silverbox()\n",
    "nu, ny, norm = dsi.get_nu_ny_and_auto_norm(train_val)\n",
    "train_val, test = norm.transform(train_val), norm.transform(test) #normalize data\n",
    "s = int(len(train_val)*0.95)\n",
    "train, val = train_val[:s], train_val[s:]\n",
    "model = dsi.models.SUBNET(nu, ny, dsi.Norm(0, 1, 0, 1), nx=4)\n",
    "train_dict = dsi.fit(model, train, val, n_its=1001, val_freq=100)\n"
   ]
  },
  {
   "cell_type": "code",
   "execution_count": 18,
   "id": "35c8407a-8318-443a-95df-6bdf0f49e22a",
   "metadata": {},
   "outputs": [],
   "source": [
    "(upast, ypast, ufuture, yfuture), ids = model.create_arrays(test, T=100, stride=10)\n",
    "import torch\n",
    "with torch.no_grad():\n",
    "    yfuture_pred = model(upast[ids], ypast[ids], ufuture[ids])"
   ]
  },
  {
   "cell_type": "code",
   "execution_count": 19,
   "id": "db15c44f-179b-40dc-9319-2c4363524f88",
   "metadata": {},
   "outputs": [
    {
     "data": {
      "image/png": "[encoded data removed]",
      "text/plain": [
       "<Figure size 640x480 with 1 Axes>"
      ]
     },
     "metadata": {},
     "output_type": "display_data"
    }
   ],
   "source": [
    "RMS_time = ((yfuture_pred - yfuture[ids])**2).mean(0)**0.5\n",
    "plt.plot(RMS_time)\n",
    "plt.show()"
   ]
  },
  {
   "cell_type": "code",
   "execution_count": null,
   "id": "2a4cb271-1f7a-4beb-8699-476a31765d98",
   "metadata": {},
   "outputs": [],
   "source": []
  }
 ],
 "metadata": {
  "kernelspec": {
   "display_name": "Python 3 (ipykernel)",
   "language": "python",
   "name": "python3"
  },
  "language_info": {
   "codemirror_mode": {
    "name": "ipython",
    "version": 3
   },
   "file_extension": ".py",
   "mimetype": "text/x-python",
   "name": "python",
   "nbconvert_exporter": "python",
   "pygments_lexer": "ipython3",
   "version": "3.11.7"
  }
 },
 "nbformat": 4,
 "nbformat_minor": 5
}
